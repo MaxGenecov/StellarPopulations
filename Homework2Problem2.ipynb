{
 "cells": [
  {
   "cell_type": "code",
   "execution_count": 2,
   "metadata": {
    "collapsed": false
   },
   "outputs": [],
   "source": [
    "import numpy as np\n",
    "import matplotlib.pyplot as plt\n",
    "from scipy import integrate\n",
    "%matplotlib inline"
   ]
  },
  {
   "cell_type": "code",
   "execution_count": 3,
   "metadata": {
    "collapsed": false
   },
   "outputs": [
    {
     "data": {
      "text/plain": [
       "[<matplotlib.lines.Line2D at 0x7f0df55ce240>]"
      ]
     },
     "execution_count": 3,
     "metadata": {},
     "output_type": "execute_result"
    },
    {
     "data": {
      "image/png": "[encoded data removed]",
      "text/plain": [
       "<matplotlib.figure.Figure at 0x7f0df76210b8>"
      ]
     },
     "metadata": {},
     "output_type": "display_data"
    }
   ],
   "source": [
    "def powerLH(m_min, m_max, M, alpha):\n",
    "    c = (1.-alpha)/(m_max**(1-alpha)-m_min**(1-alpha))\n",
    "    P = c*M**(-alpha)\n",
    "    return P\n",
    "\n",
    "testM = np.logspace(-2., 1, 1000)\n",
    "test = powerLH(.01, 10, testM, 2.5)\n",
    "plt.loglog(testM,test,'.')\n"
   ]
  },
  {
   "cell_type": "code",
   "execution_count": 4,
   "metadata": {
    "collapsed": false
   },
   "outputs": [
    {
     "ename": "NameError",
     "evalue": "name 'n' is not defined",
     "output_type": "error",
     "traceback": [
      "\u001b[0;31m---------------------------------------------------------------------------\u001b[0m",
      "\u001b[0;31mNameError\u001b[0m                                 Traceback (most recent call last)",
      "\u001b[0;32m<ipython-input-4-6a5fa139e32d>\u001b[0m in \u001b[0;36m<module>\u001b[0;34m()\u001b[0m\n\u001b[1;32m      4\u001b[0m \u001b[0mplt\u001b[0m\u001b[0;34m.\u001b[0m\u001b[0myscale\u001b[0m\u001b[0;34m(\u001b[0m\u001b[0;34m'log'\u001b[0m\u001b[0;34m)\u001b[0m\u001b[0;34m\u001b[0m\u001b[0m\n\u001b[1;32m      5\u001b[0m \u001b[0mplt\u001b[0m\u001b[0;34m.\u001b[0m\u001b[0mxscale\u001b[0m\u001b[0;34m(\u001b[0m\u001b[0;34m'log'\u001b[0m\u001b[0;34m)\u001b[0m\u001b[0;34m\u001b[0m\u001b[0m\n\u001b[0;32m----> 6\u001b[0;31m \u001b[0merror\u001b[0m \u001b[0;34m=\u001b[0m \u001b[0mnp\u001b[0m\u001b[0;34m.\u001b[0m\u001b[0msqrt\u001b[0m\u001b[0;34m(\u001b[0m\u001b[0mn\u001b[0m\u001b[0;34m)\u001b[0m\u001b[0;34m+\u001b[0m\u001b[0;36m1.\u001b[0m\u001b[0;34m\u001b[0m\u001b[0m\n\u001b[0m",
      "\u001b[0;31mNameError\u001b[0m: name 'n' is not defined"
     ]
    },
    {
     "data": {
      "image/png": "[encoded data removed]",
      "text/plain": [
       "<matplotlib.figure.Figure at 0x7f0df5275e10>"
      ]
     },
     "metadata": {},
     "output_type": "display_data"
    }
   ],
   "source": [
    "randmasses = np.random.choice(testM, 10000, p = test/np.sum(test))\n",
    "#n, bins, patches = \n",
    "plt.hist(randmasses, bins = 10000)\n",
    "plt.yscale('log')\n",
    "plt.xscale('log')\n",
    "error = np.sqrt(n)+1."
   ]
  },
  {
   "cell_type": "code",
   "execution_count": 5,
   "metadata": {
    "collapsed": false
   },
   "outputs": [
    {
     "ename": "NameError",
     "evalue": "name 'bins' is not defined",
     "output_type": "error",
     "traceback": [
      "\u001b[0;31m---------------------------------------------------------------------------\u001b[0m",
      "\u001b[0;31mNameError\u001b[0m                                 Traceback (most recent call last)",
      "\u001b[0;32m<ipython-input-5-cfbbb9acc69a>\u001b[0m in \u001b[0;36m<module>\u001b[0;34m()\u001b[0m\n\u001b[0;32m----> 1\u001b[0;31m \u001b[0mplt\u001b[0m\u001b[0;34m.\u001b[0m\u001b[0mplot\u001b[0m\u001b[0;34m(\u001b[0m\u001b[0mbins\u001b[0m\u001b[0;34m[\u001b[0m\u001b[0;34m:\u001b[0m\u001b[0;34m-\u001b[0m\u001b[0;36m1\u001b[0m\u001b[0;34m]\u001b[0m\u001b[0;34m,\u001b[0m\u001b[0mn\u001b[0m\u001b[0;34m/\u001b[0m\u001b[0msum\u001b[0m\u001b[0;34m(\u001b[0m\u001b[0mn\u001b[0m\u001b[0;34m)\u001b[0m\u001b[0;34m,\u001b[0m\u001b[0;34m'.'\u001b[0m\u001b[0;34m)\u001b[0m\u001b[0;34m\u001b[0m\u001b[0m\n\u001b[0m\u001b[1;32m      2\u001b[0m \u001b[0mplt\u001b[0m\u001b[0;34m.\u001b[0m\u001b[0myscale\u001b[0m\u001b[0;34m(\u001b[0m\u001b[0;34m'log'\u001b[0m\u001b[0;34m)\u001b[0m\u001b[0;34m\u001b[0m\u001b[0m\n\u001b[1;32m      3\u001b[0m \u001b[0mplt\u001b[0m\u001b[0;34m.\u001b[0m\u001b[0mxscale\u001b[0m\u001b[0;34m(\u001b[0m\u001b[0;34m'log'\u001b[0m\u001b[0;34m)\u001b[0m\u001b[0;34m\u001b[0m\u001b[0m\n",
      "\u001b[0;31mNameError\u001b[0m: name 'bins' is not defined"
     ]
    }
   ],
   "source": [
    "plt.plot(bins[:-1],n/sum(n),'.')\n",
    "plt.yscale('log')\n",
    "plt.xscale('log')\n"
   ]
  },
  {
   "cell_type": "code",
   "execution_count": 9,
   "metadata": {
    "collapsed": false,
    "scrolled": false
   },
   "outputs": [
    {
     "name": "stderr",
     "output_type": "stream",
     "text": [
      "/home/max/anaconda2/envs/moresnakes/lib/python3.5/site-packages/ipykernel/__main__.py:11: RuntimeWarning: overflow encountered in multiply\n",
      "/home/max/anaconda2/envs/moresnakes/lib/python3.5/site-packages/ipykernel/__main__.py:10: RuntimeWarning: divide by zero encountered in double_scalars\n",
      "/home/max/anaconda2/envs/moresnakes/lib/python3.5/site-packages/ipykernel/__main__.py:11: RuntimeWarning: overflow encountered in power\n",
      "/home/max/anaconda2/envs/moresnakes/lib/python3.5/site-packages/emcee/ensemble.py:335: RuntimeWarning: invalid value encountered in subtract\n",
      "  lnpdiff = (self.dim - 1.) * np.log(zz) + newlnprob - lnprob0\n",
      "/home/max/anaconda2/envs/moresnakes/lib/python3.5/site-packages/emcee/ensemble.py:336: RuntimeWarning: invalid value encountered in greater\n",
      "  accept = (lnpdiff > np.log(self._random.rand(len(lnpdiff))))\n",
      "/home/max/anaconda2/envs/moresnakes/lib/python3.5/site-packages/ipykernel/__main__.py:10: RuntimeWarning: overflow encountered in double_scalars\n"
     ]
    },
    {
     "data": {
      "text/plain": [
       "(array([[  38.63570879,   60.26120437,   86.94371758,   75.29306377],\n",
       "        [  32.998224  ,   71.59754477,  128.13259598,   92.33452182],\n",
       "        [  35.8107773 ,   76.02552955,  103.22702801,   89.72480268],\n",
       "        [  33.01769351,   54.56250352,   92.48072035,   79.70794541],\n",
       "        [  29.01689466,   64.97788444,   92.40076587,   74.57644333],\n",
       "        [  41.92802387,   57.93012818,   84.91435851,   78.2054418 ],\n",
       "        [  49.928581  ,   54.56886527,   87.74575739,   82.40545119],\n",
       "        [  50.31475316,   74.93086752,  129.61773502,  103.90277012],\n",
       "        [  34.80091942,   53.98250491,   87.66196687,   74.18065693],\n",
       "        [  13.97813023,   80.79500877,  124.57510823,   87.70294283],\n",
       "        [  47.54443478,   75.70986355,  106.8410936 ,  100.03680423],\n",
       "        [  31.79905655,   78.00718546,   95.94825467,   80.26297262],\n",
       "        [  31.13372968,   56.92395603,   99.79302302,   80.69277071],\n",
       "        [  37.99630506,   70.79740648,  118.11847903,   96.51535958],\n",
       "        [  36.39250298,   58.87452345,   87.66185483,   74.21521801],\n",
       "        [  59.59412288,  101.52979335,  130.08130795,  119.25258364],\n",
       "        [  39.86193909,   65.42987052,   90.15478132,   80.26179246],\n",
       "        [  39.61107322,  177.20898807,  147.22377828,  130.57173749],\n",
       "        [  25.05556698,   59.84512894,   95.1162124 ,   70.82226484],\n",
       "        [  23.41059207,   54.99950245,   94.60054761,   73.58071172],\n",
       "        [  48.59772492,   75.32754219,   88.765857  ,   85.01384099],\n",
       "        [  37.72031836,   70.42629566,  121.48332557,   92.59766923],\n",
       "        [  39.89305184,   78.56118482,  104.75268497,   92.08794649],\n",
       "        [  28.02017157,   65.02623594,   92.8910649 ,   75.50254063],\n",
       "        [   8.69808552,   57.48647111,  106.20764111,   81.39090887],\n",
       "        [  67.18604787,   82.79049826,  104.3974814 ,  107.84528908],\n",
       "        [  33.03897336,   69.27302456,   88.6865384 ,   82.308665  ],\n",
       "        [  21.11583385,   50.74722684,  104.36694886,   72.56659891],\n",
       "        [  38.20861017,   64.86859728,   94.82213935,   82.27864753],\n",
       "        [  40.3643839 ,   64.25961793,   98.34517423,   83.94633871],\n",
       "        [  59.87573163,   60.88546825,  106.2666081 ,   95.44048082],\n",
       "        [  37.82014019,   57.75060857,   91.81996915,   82.24418455],\n",
       "        [  23.04811569,   53.64179231,  102.09254038,   77.28667544],\n",
       "        [  43.92828508,   50.89638184,   85.93276621,   77.83405164],\n",
       "        [  28.22547657,   80.802108  ,   95.83992906,   79.4283194 ],\n",
       "        [  26.781123  ,   61.65470652,  111.16123989,   95.74289403],\n",
       "        [  44.49173124,   55.30132076,   97.94789992,   85.36000775],\n",
       "        [  47.39117108,   75.99310798,   92.67810112,   87.1058868 ],\n",
       "        [  41.69546317,   53.64989944,   91.33488396,   79.19722607],\n",
       "        [  32.93729371,   48.9777085 ,   87.94714751,   71.58404995],\n",
       "        [  52.69235967,   72.35479954,   91.37562193,   90.91128641],\n",
       "        [  44.25145539,   49.23584715,   89.57406882,   79.89102794],\n",
       "        [  30.25764024,   60.117809  ,   93.26516424,   76.05569911],\n",
       "        [  10.55729849,   79.04805225,  128.56084551,   81.71311626],\n",
       "        [  20.2179474 ,   61.827093  ,   93.00496461,   69.18726074],\n",
       "        [  38.76268591,   60.22588236,   91.29735783,   76.405015  ],\n",
       "        [  20.19969495,   73.72010722,  122.13773906,   93.00323995],\n",
       "        [  33.56802246,   71.9426139 ,   89.67303102,   75.8923878 ],\n",
       "        [  30.87235175,   54.52916313,   95.56023636,   71.76496312],\n",
       "        [  33.31283707,   73.00085985,   90.57292161,   76.42174281],\n",
       "        [  31.13925436,   72.34576684,   88.70097247,   78.66528282],\n",
       "        [  28.40439151,   60.17175464,   96.20722242,   82.60471519],\n",
       "        [  35.90297896,   56.50740459,   88.31694756,   76.57382163],\n",
       "        [  26.48409486,   49.29653959,   90.02169516,   69.00898539],\n",
       "        [  32.60396287,   54.7437493 ,   94.00948748,   80.47693073],\n",
       "        [  69.94041923,  124.56436448,  120.42298823,  124.32377208],\n",
       "        [  31.48228172,   47.4293752 ,   89.14793361,   70.51153541],\n",
       "        [  26.99075622,  152.01473552,   94.56060163,   88.04130999],\n",
       "        [  57.74251425,   94.50240667,  126.22986597,  114.60983926],\n",
       "        [  30.62254429,   58.15267358,   95.52691691,   78.43893377],\n",
       "        [  47.44801183,   56.81129617,  102.6410443 ,   89.24991413],\n",
       "        [  47.31894052,   57.38335753,   89.14012198,   79.90123275],\n",
       "        [  28.09199069,   65.91673391,   98.9782989 ,   76.97513481],\n",
       "        [  25.41465094,   55.59003429,   91.53780822,   74.74636836],\n",
       "        [  62.09141201,   75.13872915,  126.99004971,  114.10368189],\n",
       "        [  27.01942401,  104.49159997,  107.05423008,   91.22482051],\n",
       "        [  39.13786362,   58.29074499,  101.25662608,   81.13006916],\n",
       "        [  47.55858043,   58.8369992 ,   98.75559112,   85.5571343 ],\n",
       "        [  54.73342429,   54.74424208,   96.01268787,   86.36347192],\n",
       "        [   9.59051628,  104.10850954,  157.98218398,  102.26845619],\n",
       "        [  44.05808797,   59.32809915,  106.65906469,   85.23673478],\n",
       "        [  10.97636848,   63.85005016,  123.78813511,   89.10441381],\n",
       "        [  39.71920536,   63.57503403,   88.66961178,   80.191412  ],\n",
       "        [  34.33917352,   59.28844046,   89.57343044,   76.46823825],\n",
       "        [  36.67668241,   57.40083149,   94.0015644 ,   80.02245902],\n",
       "        [  30.81497775,   50.74900352,   93.56886103,   79.33888436],\n",
       "        [  31.03046332,   57.4878769 ,   88.18171324,   74.82437188],\n",
       "        [  42.26283171,   59.84890977,  114.10270298,  107.64618224],\n",
       "        [  27.86578485,   51.2550017 ,   92.97950977,   70.10460392],\n",
       "        [  28.17815255,   66.04153767,   96.73952623,   78.75469257],\n",
       "        [  30.85600424,   55.73507893,   88.45164059,   78.73784537],\n",
       "        [  51.46589535,   75.83729601,  131.6724396 ,  105.6516038 ],\n",
       "        [  35.41847731,   61.76947601,   94.64746865,   80.5900075 ],\n",
       "        [  43.0728058 ,   74.97261204,  100.38645017,   90.30318986],\n",
       "        [  35.82280898,   72.40405846,  102.52334405,   84.30974503],\n",
       "        [  32.15847379,   67.4800744 ,   92.08495561,   80.09414648],\n",
       "        [  47.14589368,   71.82210441,  127.7488188 ,  111.72816392],\n",
       "        [  33.69252323,   64.18288133,   92.2297366 ,   79.1913595 ],\n",
       "        [  33.25415713,   80.35758484,  100.42822586,   86.7667711 ],\n",
       "        [  44.73406841,   63.63792506,   97.17192925,   85.25878437],\n",
       "        [  30.8689578 ,   84.82274996,   99.83975874,   83.07357408],\n",
       "        [  27.04390019,   56.41060025,   97.50904532,   78.57635676],\n",
       "        [  37.97405715,   57.73795473,   89.96392567,   77.40543243],\n",
       "        [  26.02168075,   53.18242306,   91.13350639,   68.80317903],\n",
       "        [  28.43872824,   67.45680336,   89.2061476 ,   75.39903566],\n",
       "        [  46.73181951,   66.67374556,  108.4585792 ,   99.17614984],\n",
       "        [  36.61307889,   52.66830863,   95.39202964,   75.98806385],\n",
       "        [  33.04608232,  102.14960852,  109.39939459,   88.48842794],\n",
       "        [  39.18663897,   57.53530844,   86.91142534,   72.34120413],\n",
       "        [  25.69980606,   80.179924  ,  102.30144814,   80.61011973]]),\n",
       " array([ inf,  inf,  inf,  inf,  inf,  inf,  inf,  inf,  inf,  inf,  inf,\n",
       "         inf,  inf,  inf,  inf,  inf,  inf,  inf,  inf,  inf,  inf,  inf,\n",
       "         inf,  inf,  inf,  inf,  inf,  inf,  inf,  inf,  inf,  inf,  inf,\n",
       "         inf,  inf,  inf,  inf,  inf,  inf,  inf,  inf,  inf,  inf,  inf,\n",
       "         inf,  inf,  inf,  inf,  inf,  inf,  inf,  inf,  inf,  inf,  inf,\n",
       "         inf,  inf,  inf,  inf,  inf,  inf,  inf,  inf,  inf,  inf,  inf,\n",
       "         inf,  inf,  inf,  inf,  inf,  inf,  inf,  inf,  inf,  inf,  inf,\n",
       "         inf,  inf,  inf,  inf,  inf,  inf,  inf,  inf,  inf,  inf,  inf,\n",
       "         inf,  inf,  inf,  inf,  inf,  inf,  inf,  inf,  inf,  inf,  inf,\n",
       "         inf]),\n",
       " ('MT19937', array([4013254329,  842918955, 1462547034, 2071594112, 3467895832,\n",
       "         1561884607, 3326562079, 2490289754, 2223801702, 1848850406,\n",
       "         1137170300, 1027512494, 2867555245,  205217345, 2561148591,\n",
       "         1343514346,  230354360, 1519588253, 1935202058,  987264528,\n",
       "         2205415656, 3609739655, 3987397786, 4194320902, 2323674731,\n",
       "          227128766, 2590896911, 2201842117,  221073407, 4276110810,\n",
       "         2203118124,  760583560, 1815513019, 3550953422, 2885092976,\n",
       "         2191231488, 3417246606,  822768070,  741735485, 3822797978,\n",
       "         2132778750,  901907818,  626549907, 2461726501, 4082242371,\n",
       "         3985317396,  971978973, 2628636021, 2801280575, 3138279141,\n",
       "         3698715677, 1249949064, 3642455128, 3708200929, 1505379538,\n",
       "          900585538, 2444905495, 3769829182,  654283731, 2244926968,\n",
       "         3383385983, 1570034510, 3131181976, 2717400621, 2572048700,\n",
       "         1933664492, 1130452073, 1272089100,  482245949,  190779049,\n",
       "          157274476, 2382686994, 4083742288, 3368778761, 1441681923,\n",
       "         3580502254, 3523461457, 4149032020, 3412727074,    1761567,\n",
       "         3377104266, 1540852362,  995810375, 2349747315,  535940998,\n",
       "          109472902,  519135966, 2745390054, 3136876249, 2016528032,\n",
       "         2298942524, 2283979413,   63500425, 2620041583, 2439744474,\n",
       "         2943455333, 2489087715, 2284118911, 2228783843, 2181835201,\n",
       "         1295586056,  313612988, 3063526278,  147313413, 2236681805,\n",
       "         3918271129, 3587101447, 2743960781, 1025029636, 1968807202,\n",
       "         3206038176, 3710892448,  341142771, 4034134448,  546477014,\n",
       "         2755982290, 2951321677,  758143270,  897209526,  437925316,\n",
       "          525306409, 2695648072, 1839059653,  777730659, 2929033322,\n",
       "         3859956985, 3123103251,  386502698, 3062515601, 1602024324,\n",
       "          919619112, 2359270489, 2437384723, 1723166395, 2191090624,\n",
       "         2770933137, 3172204220, 2674367319, 3883659326, 1851119093,\n",
       "         2598532434, 1949810357, 3202180074, 2165941735, 1771735940,\n",
       "          871349980, 2943874843,  733329178, 1909572540, 3202495607,\n",
       "         3391313264, 1302305135,  438798733, 2228644297,  773572679,\n",
       "         2891915799, 1405851296, 2798394541, 3383763543, 1491596590,\n",
       "         3744165706,  659321801, 2707397523, 3874666948,  928713846,\n",
       "          540426668,  526957139, 3579462833, 1216838566,  828682298,\n",
       "          545356816, 1287105696, 4222645993, 2409410066, 3735769129,\n",
       "          605067954, 1574911183, 1648060296, 2556303746, 3321328308,\n",
       "         2135797834, 4116363579, 1088678485, 2046519352,  169980122,\n",
       "         2184271979, 3614353593,  416853871, 3274654859, 4201348629,\n",
       "         2054574454, 4206112801, 2092733314,  142178272, 1343111708,\n",
       "          665548030, 2058172105,  437163861, 3383292359, 3544682127,\n",
       "          520266296,  263151982, 3834700179, 2359936579,  750209611,\n",
       "          187001216,  358626497, 1466527991,  856565536,  547860133,\n",
       "         1715864340, 2039732116,  589948965, 1420096837, 3842433554,\n",
       "         2070236101, 3747355049, 3839075505, 3593742637, 1782181065,\n",
       "         2568497697, 3530415623, 1633985455, 3540165354,  165254948,\n",
       "         1889472116, 1758569448,  979566178, 4242927809, 3436814577,\n",
       "         2462460650, 2486917334, 2126089950, 2922069717,  865989987,\n",
       "         3332257465, 1386382548, 3117419466,  805996009, 2197384617,\n",
       "         1278099149, 1019276265, 2971154211, 2867292395, 1096446460,\n",
       "          232016205, 2502726850, 2870047791,  581998368,  747090662,\n",
       "         1973518034, 1271536723, 3590780199, 1545816644, 3204352275,\n",
       "         2353385559, 1270296647, 1880846804, 4285218342, 3885513773,\n",
       "         2073555500, 2704733988, 1575546250, 4243133224, 2483872105,\n",
       "          799065608, 4046486013, 1516863477,   97923235, 1534836124,\n",
       "          790287722, 3834427015, 1422517229, 1179220834,  863768105,\n",
       "           10137970, 2274365907, 4145321860, 1400959431, 1984463019,\n",
       "         2562625060, 3840074993, 3527178606, 4172471653, 2692290260,\n",
       "          180561788, 3205481095,  504339756, 2217400140, 3234717267,\n",
       "         2042837010, 3284266527, 2645481458, 1539804645,  529815857,\n",
       "          286406267, 2909331241, 1304608890, 1070232481, 2339575218,\n",
       "          240086688, 3995944769, 3217618611,  565668077, 1426661321,\n",
       "         3620109417, 4152935531, 2283991695, 1341152891, 1204570745,\n",
       "         3053403204,  467463843, 1604247793, 4182669292,  249807320,\n",
       "         2574073825, 4014892232, 3938978764, 1162750429, 1384089337,\n",
       "         3098637023, 1272574289, 1213843195, 3754658255, 2871799260,\n",
       "          226142359, 2914997237, 3891933373,  183313400, 1102078808,\n",
       "         3074053198,  318516767,  680324519, 1219969049, 3954308157,\n",
       "         3505669619, 2057814619,  885789173,  150509669,  179695695,\n",
       "         1331417902, 2908418917, 2146295457,  165748560, 3234400874,\n",
       "          659499873, 3446075487, 2138194795,  381927020, 1944718257,\n",
       "         1778172622, 3645908653, 1325578457, 1085421305, 1163737799,\n",
       "         2541282774, 2649149084, 1415948884, 3345674585, 3014430773,\n",
       "         3488239661,  813428268, 3408908445, 3059040556, 3415950360,\n",
       "          176667429, 1660284439, 2443345932,  441817034, 3071995114,\n",
       "         3771597220, 1810158455,  137833209,  849498489, 1348594096,\n",
       "         4245212336, 2463954347,  823074353, 2095208136, 3423784990,\n",
       "          123685324, 2890722508,  203131686,  675604213, 4141755057,\n",
       "         1199634906, 1588570793, 4223194687,  324855254, 1847609467,\n",
       "           74939281, 2810750008, 2842839890,  829139029, 3448556151,\n",
       "          204926172,  727478636, 2761016078, 3123003775, 2518320942,\n",
       "         3651689397,  489602982, 3474132624, 1340558621, 1905796544,\n",
       "         1120040789, 2275695888, 1685618623,  567727817, 1131406763,\n",
       "         4293621950, 1276220960, 2380998566, 2484633857, 2577926507,\n",
       "          119168686,  822319338,  169330806, 3137385917,  417480193,\n",
       "         1757115532, 1097185543, 2514511778, 2334500648,  352019811,\n",
       "         1536307849, 2764938099, 1494937549,  503900611, 3243139434,\n",
       "         2152126396, 3765340302,  832749842, 3112685007, 3778456615,\n",
       "          312369410, 2563300287, 1698337753, 1377767492, 1067783494,\n",
       "         1896604345, 1975272587,  511532194, 2053367136,  102242336,\n",
       "         2737691217, 3723579317,  617277425, 2453011816, 2921322959,\n",
       "         1983439757, 2775431520, 3666700575,  232929169,  270141707,\n",
       "         1676348824, 1848778851, 3857017153, 4096613304, 3139780029,\n",
       "         2608807231, 2182556772, 1725911439, 2786900607, 3936403912,\n",
       "         1003827301, 3350626029, 3635986648,   98772095, 3830413285,\n",
       "         3740876686, 3777844457, 1789814243, 3200355982, 1599263093,\n",
       "         3406579776, 1045965005, 3263541363, 2479594988, 2926186152,\n",
       "          801901729,  119436541,  154915312,  307030268, 3314046733,\n",
       "          831797980, 3979762780, 1247701925, 1115141550, 1209475218,\n",
       "         1851187541, 4175479597,  497180546, 3095110702,  679607376,\n",
       "         1254349352, 1049311238, 3261198692, 2210361738, 1954957109,\n",
       "          242720375, 2145596034,  395719336, 3649634996, 3847706707,\n",
       "         3168913392, 4029980465, 1868931129, 2637827197,  992480878,\n",
       "          278019740, 2771473156,  810505698, 1242286991, 2583678964,\n",
       "           95994042, 1985538735,  201566728, 1586853630, 2252622392,\n",
       "          400344480, 1045441594, 3693814670, 1138615148, 4223678087,\n",
       "         2491860834,  352425405,  455083555, 2148682664, 1001215885,\n",
       "         2668257119, 3767961531, 3689490603, 3092416388, 2124265862,\n",
       "         2750350625, 2030623165, 1759911351, 3231082951, 2675063551,\n",
       "         2678935495, 2693327672, 4264939780, 3418678888, 2826127184,\n",
       "          594729103, 2624489375, 1154192949, 1658164998, 2191085736,\n",
       "          892802660,  944881679, 1317135774, 1104085887, 4237500360,\n",
       "         2063464056, 1416956768, 1415676147, 3921192190, 2947724173,\n",
       "         1454338935, 3131079909, 3605419740,  548800346, 3948516580,\n",
       "         1291983304, 3793432699, 1326590751, 2277541191, 3518078621,\n",
       "         1095131000,  386094826, 1163192366, 4083274219, 2602929142,\n",
       "          864636554,  288101234, 2616523552, 3011079050, 2548264944,\n",
       "         1037075687, 3296119864, 3609749431, 3898651691, 1016062199,\n",
       "         3535352611, 3816858114, 1495557192, 3123597198, 1215575831,\n",
       "         3699756578, 4287156118,  441394777, 1375212279, 3708793249,\n",
       "         2559306676, 1655881787,  732522612, 2301157506, 1515243051,\n",
       "         3269321787, 1415313645,  239643097, 1955542713, 1933341864,\n",
       "         3962584233,  459478291,   20508238, 3896792061,  175424211,\n",
       "         3647030913, 2620064552, 3457066979, 3825868126, 4200127778,\n",
       "          140586974, 3885125339, 3257859800, 3198654582, 1340518331,\n",
       "         3150233780, 4120159347, 1294988998, 3318641391], dtype=uint32), 453, 0, 0.0))"
      ]
     },
     "execution_count": 9,
     "metadata": {},
     "output_type": "execute_result"
    }
   ],
   "source": [
    "import emcee\n",
    "\n",
    "def powerLH(theta, M):\n",
    "    if theta[2] < 0:\n",
    "        return -np.inf\n",
    "    if theta[0] < 0:\n",
    "        return -np.inf\n",
    "    if theta[1] < 0:\n",
    "        return -np.inf\n",
    "    c = (1.-theta[2])/(theta[1]**(1-theta[2])-theta[0]**(1-theta[2]))\n",
    "    P = np.sum(c*M**(-theta[2]))\n",
    "    return P\n",
    "\n",
    "ndim, nwalkers = 4, 100\n",
    "pos = [1+1e-2*np.random.randn(ndim) for i in range(nwalkers)]\n",
    "\n",
    "sampler = emcee.EnsembleSampler(nwalkers, ndim, powerLH, args = [testM])\n",
    "sampler.run_mcmc(pos, 2000)\n"
   ]
  },
  {
   "cell_type": "code",
   "execution_count": 8,
   "metadata": {
    "collapsed": false
   },
   "outputs": [
    {
     "data": {
      "text/plain": [
       "<matplotlib.text.Text at 0x7f0dec972ac8>"
      ]
     },
     "execution_count": 8,
     "metadata": {},
     "output_type": "execute_result"
    },
    {
     "data": {
      "image/png": "[encoded data removed]",
      "text/plain": [
       "<matplotlib.figure.Figure at 0x7f0dec976dd8>"
      ]
     },
     "metadata": {},
     "output_type": "display_data"
    }
   ],
   "source": [
    "plt.figure(figsize = (10,10))\n",
    "[plt.plot(sampler.lnprobability[i,100:]) for i in range(100)]\n",
    "plt.xlabel('step number', fontsize = 20)\n",
    "plt.ylabel('lnP', fontsize = 20)"
   ]
  },
  {
   "cell_type": "code",
   "execution_count": 55,
   "metadata": {
    "collapsed": false
   },
   "outputs": [
    {
     "data": {
      "text/plain": [
       "[array([ 2.01562984,  2.01377801,  2.00623465]),\n",
       " array([ 1.989362  ,  1.99701142,  2.00963893]),\n",
       " array([ 1.98789479,  1.99041819,  1.99455704]),\n",
       " array([ 2.00087115,  1.9966398 ,  2.00103055]),\n",
       " array([ 2.01012086,  1.99313624,  2.00885497]),\n",
       " array([ 2.0121481 ,  1.99286051,  2.01702199]),\n",
       " array([ 1.98396846,  2.00844309,  1.99675322]),\n",
       " array([ 1.99343782,  2.00823684,  2.01093215]),\n",
       " array([ 1.98767427,  1.99350089,  1.98527325]),\n",
       " array([ 2.00504473,  2.01185055,  1.99342572]),\n",
       " array([ 2.00573241,  2.02262228,  2.00558248]),\n",
       " array([ 1.99939293,  1.99612155,  1.99578136]),\n",
       " array([ 1.99292983,  2.01016808,  2.0111458 ]),\n",
       " array([ 1.99659209,  2.00307997,  1.99950116]),\n",
       " array([ 2.01024051,  2.0066766 ,  2.00121154]),\n",
       " array([ 1.9961321 ,  1.989696  ,  1.99861811]),\n",
       " array([ 1.98352144,  1.98845877,  2.01954157]),\n",
       " array([ 1.993956  ,  1.99480849,  2.01586373]),\n",
       " array([ 1.9945406 ,  1.99852889,  2.00904741]),\n",
       " array([ 1.99604778,  2.00028258,  1.99501702]),\n",
       " array([ 2.00243281,  2.01506677,  1.99664798]),\n",
       " array([ 2.02457082,  2.00287283,  1.99418628]),\n",
       " array([ 1.99547967,  2.01043305,  1.99294611]),\n",
       " array([ 1.9973626 ,  2.00894521,  1.98972511]),\n",
       " array([ 1.99455767,  1.99655473,  2.00442047]),\n",
       " array([ 2.01046284,  2.00139504,  1.99693676]),\n",
       " array([ 1.98626261,  1.98975459,  2.00966673]),\n",
       " array([ 1.98521087,  1.99494301,  1.9929448 ]),\n",
       " array([ 1.98971828,  1.99590586,  2.00025549]),\n",
       " array([ 1.98857057,  1.99878184,  1.98075134]),\n",
       " array([ 2.01052766,  1.99698415,  2.02191758]),\n",
       " array([ 2.01178419,  2.01369636,  2.00870475]),\n",
       " array([ 1.99884698,  2.00534545,  1.99111228]),\n",
       " array([ 2.00724328,  1.99281017,  2.00917106]),\n",
       " array([ 1.9896028 ,  2.00751013,  1.98800798]),\n",
       " array([ 1.99576264,  1.99787743,  2.00593344]),\n",
       " array([ 2.00407169,  2.01092144,  1.98431742]),\n",
       " array([ 1.99619012,  1.99422656,  1.99136747]),\n",
       " array([ 2.01323063,  2.00948381,  2.00154899]),\n",
       " array([ 2.00558504,  1.99967464,  1.99778094]),\n",
       " array([ 1.99707191,  2.00439292,  1.99046455]),\n",
       " array([ 2.00393049,  2.01024483,  2.00291582]),\n",
       " array([ 2.00586106,  2.00673216,  2.00233596]),\n",
       " array([ 1.98430808,  1.97684095,  2.01185015]),\n",
       " array([ 2.01902161,  2.00873549,  1.99232892]),\n",
       " array([ 1.99358435,  1.99596732,  2.00357219]),\n",
       " array([ 1.99496985,  1.99460626,  1.97770375]),\n",
       " array([ 1.98901802,  2.0261801 ,  1.99626841]),\n",
       " array([ 2.00339847,  1.9894032 ,  1.99487075]),\n",
       " array([ 1.9866232 ,  1.98085339,  2.00937248]),\n",
       " array([ 1.98844928,  1.99977704,  1.98339449]),\n",
       " array([ 2.00991709,  1.99754721,  2.00663118]),\n",
       " array([ 1.99800078,  2.00711316,  2.00261282]),\n",
       " array([ 1.99346187,  1.99703733,  1.9835705 ]),\n",
       " array([ 2.02228642,  1.98783131,  1.99864412]),\n",
       " array([ 2.00226828,  1.98690484,  2.02572151]),\n",
       " array([ 2.00788114,  1.98212326,  2.01115442]),\n",
       " array([ 1.99084648,  1.99550625,  2.00426063]),\n",
       " array([ 2.00356638,  1.99281818,  2.01122484]),\n",
       " array([ 1.98947358,  1.99394903,  1.99026542]),\n",
       " array([ 1.99933593,  1.99166293,  1.99867602]),\n",
       " array([ 2.00445169,  2.00187044,  1.9954732 ]),\n",
       " array([ 2.00936927,  1.97976266,  1.98682268]),\n",
       " array([ 2.00604187,  1.99325685,  1.98836664]),\n",
       " array([ 1.98158479,  2.03629628,  2.01337028]),\n",
       " array([ 2.00147826,  2.00526541,  2.01090876]),\n",
       " array([ 2.01301799,  1.99566358,  1.99947211]),\n",
       " array([ 1.99637052,  1.99720573,  2.00563604]),\n",
       " array([ 2.01078001,  1.99221978,  1.9979479 ]),\n",
       " array([ 2.00000713,  1.99973782,  2.00599509]),\n",
       " array([ 2.00207943,  1.99733852,  2.01228361]),\n",
       " array([ 2.01315082,  2.00521275,  2.00905959]),\n",
       " array([ 2.00604516,  2.00758448,  1.99076086]),\n",
       " array([ 2.01755149,  2.0059232 ,  1.99879925]),\n",
       " array([ 1.99449357,  1.98980051,  2.00170105]),\n",
       " array([ 2.00180457,  1.99654807,  2.01208225]),\n",
       " array([ 2.00783577,  1.99476242,  2.01644209]),\n",
       " array([ 2.0006253 ,  1.97298521,  1.98266131]),\n",
       " array([ 1.98708394,  2.00746112,  1.99410672]),\n",
       " array([ 2.00226292,  2.0139073 ,  2.00240133]),\n",
       " array([ 1.99783572,  1.99891756,  1.99953182]),\n",
       " array([ 1.98801857,  2.00629189,  1.99691177]),\n",
       " array([ 2.00341366,  1.99781843,  1.9982761 ]),\n",
       " array([ 2.00989958,  2.0151834 ,  1.99792222]),\n",
       " array([ 1.99112667,  1.98882795,  1.99618434]),\n",
       " array([ 1.98629451,  1.99721866,  2.00055697]),\n",
       " array([ 1.99323825,  1.98857047,  2.0152842 ]),\n",
       " array([ 2.00955358,  1.99872179,  1.99208341]),\n",
       " array([ 1.99824067,  1.99146921,  2.00363852]),\n",
       " array([ 2.00126761,  1.98096085,  1.99390677]),\n",
       " array([ 1.99867278,  2.00280334,  1.99476064]),\n",
       " array([ 1.98772672,  2.00164494,  2.01822942]),\n",
       " array([ 1.9990411 ,  2.01074782,  1.99006279]),\n",
       " array([ 1.9867949 ,  1.99556567,  1.9948644 ]),\n",
       " array([ 2.00089089,  2.01160527,  1.98730733]),\n",
       " array([ 1.98620084,  1.98754148,  1.97320554]),\n",
       " array([ 1.98477047,  2.00551644,  1.98756221]),\n",
       " array([ 1.98045378,  2.00164066,  2.01008582]),\n",
       " array([ 1.99863617,  2.00444664,  2.01717616]),\n",
       " array([ 2.01097357,  2.01573593,  2.00212211])]"
      ]
     },
     "execution_count": 55,
     "metadata": {},
     "output_type": "execute_result"
    }
   ],
   "source": [
    "pos"
   ]
  },
  {
   "cell_type": "code",
   "execution_count": null,
   "metadata": {
    "collapsed": true
   },
   "outputs": [],
   "source": []
  }
 ],
 "metadata": {
  "kernelspec": {
   "display_name": "Python 3",
   "language": "python",
   "name": "python3"
  },
  "language_info": {
   "codemirror_mode": {
    "name": "ipython",
    "version": 3
   },
   "file_extension": ".py",
   "mimetype": "text/x-python",
   "name": "python",
   "nbconvert_exporter": "python",
   "pygments_lexer": "ipython3",
   "version": "3.5.2"
  }
 },
 "nbformat": 4,
 "nbformat_minor": 1
}
