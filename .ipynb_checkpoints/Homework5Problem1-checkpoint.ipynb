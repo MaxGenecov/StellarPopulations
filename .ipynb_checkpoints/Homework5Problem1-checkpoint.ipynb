{
 "cells": [
  {
   "cell_type": "code",
   "execution_count": 2,
   "metadata": {
    "collapsed": false
   },
   "outputs": [
    {
     "data": {
      "text/plain": [
       "(463, 15)"
      ]
     },
     "execution_count": 2,
     "metadata": {},
     "output_type": "execute_result"
    }
   ],
   "source": [
    "import numpy as np\n",
    "\n",
    "alldata = np.genfromtxt('ps5.data', usecols = range(15))\n",
    "np.shape(alldata)"
   ]
  },
  {
   "cell_type": "code",
   "execution_count": 3,
   "metadata": {
    "collapsed": false
   },
   "outputs": [
    {
     "data": {
      "text/plain": [
       "array([[  2.25000000e+01,   1.42184000e+05,   8.20000000e+00, ...,\n",
       "          9.99900000e+01,   9.99900000e+01,   9.99900000e+01],\n",
       "       [  1.18100000e+02,  -5.56590000e+04,   9.20000000e-01, ...,\n",
       "          5.00000000e-02,   1.23500000e+01,   3.00000000e-02],\n",
       "       [  3.31800000e+02,  -1.01153000e+05,   1.04000000e+01, ...,\n",
       "          5.00000000e-02,   1.58200000e+01,   4.00000000e-02],\n",
       "       ..., \n",
       "       [  5.00735000e+04,   1.52750000e+04,   2.59000000e+00, ...,\n",
       "          1.20000000e-01,   1.85400000e+01,   1.10000000e-01],\n",
       "       [  5.84279000e+04,   1.95736000e+05,   1.93000000e+00, ...,\n",
       "          9.99900000e+01,   1.91100000e+01,   6.00000000e-02],\n",
       "       [  8.55340000e+04,   1.39384000e+05,   2.54000000e+00, ...,\n",
       "          6.00000000e-02,   1.70000000e+01,   4.00000000e-02]])"
      ]
     },
     "execution_count": 3,
     "metadata": {},
     "output_type": "execute_result"
    }
   ],
   "source": [
    "gdata = np.empty([463, 10])\n",
    "gdata[:,0] = alldata[:,1]*3600+alldata[:,2]*60+alldata[:,3]\n",
    "gdata[:,1] = (np.abs(alldata[:,4])*3600+alldata[:,5]*60+alldata[:,6])*np.sign(alldata[:,4])\n",
    "gdata[:,2:] = alldata[:,7:]\n",
    "gdata"
   ]
  },
  {
   "cell_type": "code",
   "execution_count": 4,
   "metadata": {
    "collapsed": false
   },
   "outputs": [],
   "source": [
    "import fsps\n",
    "sp = fsps.StellarPopulation(imf_type = 2, zmet = 6., sfh = 1, tau= 100., const = 1)\n"
   ]
  },
  {
   "cell_type": "code",
   "execution_count": 5,
   "metadata": {
    "collapsed": false
   },
   "outputs": [
    {
     "name": "stdout",
     "output_type": "stream",
     "text": [
      "0.021292511259259357 [ 4.54304333]\n"
     ]
    },
    {
     "data": {
      "text/plain": [
       "array([  4.69648689e-08,   4.69648689e-08,   4.69648689e-08,\n",
       "         4.69648689e-08,   4.69648689e-08,   4.69648689e-08,\n",
       "         4.69648689e-08,   4.69648689e-08,   4.69648689e-08,\n",
       "         4.69648689e-08,   4.69648689e-08,   4.69648689e-08,\n",
       "         4.69648689e-08,   4.69648689e-08,   4.69648689e-08,\n",
       "         4.69648689e-08,   4.69648689e-08,   4.69648689e-08,\n",
       "         4.69648689e-08,   4.69648689e-08,   4.69648689e-08,\n",
       "         4.69648689e-08,   4.69648689e-08,   4.69648689e-08,\n",
       "         4.69648689e-08,   4.69648689e-08,   4.69648689e-08,\n",
       "         4.69648689e-08,   4.69648689e-08,   4.69648689e-08,\n",
       "         4.69648689e-08,   4.69648689e-08,   4.69648689e-08,\n",
       "         4.69648689e-08,   4.69648689e-08,   4.69648689e-08,\n",
       "         4.69648689e-08,   4.69648689e-08,   4.69648689e-08,\n",
       "         4.69648689e-08,   4.69648689e-08,   4.69648689e-08,\n",
       "         4.69648689e-08,   4.69648689e-08,   4.69648689e-08,\n",
       "         4.69648689e-08,   4.69648689e-08,   0.00000000e+00,\n",
       "         0.00000000e+00,   0.00000000e+00,   0.00000000e+00,\n",
       "         0.00000000e+00,   0.00000000e+00,   0.00000000e+00,\n",
       "         0.00000000e+00,   0.00000000e+00,   0.00000000e+00,\n",
       "         0.00000000e+00,   0.00000000e+00,   0.00000000e+00,\n",
       "         0.00000000e+00,   0.00000000e+00,   0.00000000e+00,\n",
       "         0.00000000e+00,   0.00000000e+00,   0.00000000e+00,\n",
       "         0.00000000e+00,   0.00000000e+00,   0.00000000e+00,\n",
       "         0.00000000e+00,   0.00000000e+00,   0.00000000e+00,\n",
       "         0.00000000e+00,   0.00000000e+00,   0.00000000e+00,\n",
       "         0.00000000e+00,   0.00000000e+00,   0.00000000e+00,\n",
       "         0.00000000e+00,   0.00000000e+00,   0.00000000e+00,\n",
       "         0.00000000e+00,   0.00000000e+00,   0.00000000e+00,\n",
       "         0.00000000e+00,   0.00000000e+00,   0.00000000e+00,\n",
       "         0.00000000e+00,   0.00000000e+00,   0.00000000e+00,\n",
       "         0.00000000e+00,   0.00000000e+00,   0.00000000e+00,\n",
       "         0.00000000e+00,   0.00000000e+00,   0.00000000e+00,\n",
       "         0.00000000e+00,   0.00000000e+00,   0.00000000e+00,\n",
       "         0.00000000e+00,   0.00000000e+00,   0.00000000e+00,\n",
       "         0.00000000e+00,   0.00000000e+00,   0.00000000e+00,\n",
       "         0.00000000e+00,   0.00000000e+00])"
      ]
     },
     "execution_count": 5,
     "metadata": {},
     "output_type": "execute_result"
    }
   ],
   "source": [
    "# make a loop of different sf_trunc and get mags times to match. Then there should be a relation. Convert to M per yr and AB mag\n",
    "d = np.random.uniform(-2,2)\n",
    "sfr1 = 10**(d)\n",
    "sp.params['sf_trunc'] = sfr1\n",
    "magnow = sp.get_mags(tage=0, bands=['galex_fuv'])\n",
    "print(sfr1, magnow[0])\n",
    "sp.sfr"
   ]
  },
  {
   "cell_type": "code",
   "execution_count": 6,
   "metadata": {
    "collapsed": false
   },
   "outputs": [],
   "source": [
    "mags = []\n",
    "sfrs = []\n",
    "for i in range(100):\n",
    "    d = np.random.uniform(-2,1)\n",
    "    sfr1 = 10**(d)\n",
    "    sp.params['sf_trunc'] = sfr1\n",
    "    magnow = sp.get_mags(tage=0, bands=['galex_fuv'])\n",
    "    mags.append(magnow[0])\n",
    "    sfrs.append(sfr1)\n",
    "\n",
    "mags = np.asarray(mags)\n",
    "sfrs = np.asarray(sfrs)"
   ]
  },
  {
   "cell_type": "code",
   "execution_count": 7,
   "metadata": {
    "collapsed": false
   },
   "outputs": [
    {
     "data": {
      "text/plain": [
       "<matplotlib.text.Text at 0x7fb06ca88940>"
      ]
     },
     "execution_count": 7,
     "metadata": {},
     "output_type": "execute_result"
    },
    {
     "data": {
      "image/png": "[encoded data removed]",
      "text/plain": [
       "<matplotlib.figure.Figure at 0x7fb0a7059a20>"
      ]
     },
     "metadata": {},
     "output_type": "display_data"
    }
   ],
   "source": [
    "import matplotlib.pyplot as plt\n",
    "% matplotlib inline\n",
    "\n",
    "plt.semilogy(mags, sfrs, '.')\n",
    "plt.xlabel('relative M')\n",
    "plt.ylabel('relative SFR')\n"
   ]
  },
  {
   "cell_type": "code",
   "execution_count": 8,
   "metadata": {
    "collapsed": false
   },
   "outputs": [],
   "source": [
    "from scipy import stats\n",
    "\n",
    "slope, intercept, r_value, p_value, std_err = stats.linregress(np.ravel(mags), np.log10(sfrs))"
   ]
  },
  {
   "cell_type": "code",
   "execution_count": 9,
   "metadata": {
    "collapsed": false
   },
   "outputs": [
    {
     "name": "stdout",
     "output_type": "stream",
     "text": [
      "0.4 -3.4889904466\n"
     ]
    }
   ],
   "source": [
    "# relative M/yr = relative M * .4- 3.5\n",
    "\n",
    "print(slope, intercept)"
   ]
  },
  {
   "cell_type": "code",
   "execution_count": 32,
   "metadata": {
    "collapsed": false
   },
   "outputs": [
    {
     "name": "stdout",
     "output_type": "stream",
     "text": [
      "1.0 32.4403187509\n"
     ]
    },
    {
     "data": {
      "image/png": "[encoded data removed]",
      "text/plain": [
       "<matplotlib.figure.Figure at 0x7fb062d64358>"
      ]
     },
     "metadata": {},
     "output_type": "display_data"
    }
   ],
   "source": [
    "F_nuv = 10**(-.4*(np.ravel(mags)+48.6))\n",
    "L_nuv = 4*np.pi*(10*3.08e18)**2* F_nuv\n",
    "powL_nuv = L_nuv*(3e18/1528.) \n",
    "\n",
    "plt.semilogy(-np.log10(powL_nuv), sfrs, '.')\n",
    "plt.xlabel('$log_{10}$($L_{FUV}$)')\n",
    "plt.ylabel('SFR($M_{\\odot}$/yr)')\n",
    "\n",
    "slope, intercept, r_value, p_value, std_err = stats.linregress(-np.log10(powL_nuv), np.log10(sfrs))\n",
    "print(slope, intercept)"
   ]
  },
  {
   "cell_type": "markdown",
   "metadata": {
    "collapsed": true
   },
   "source": [
    "The paper reports an offset constant of 43.5, which is much larger than that of the offset I found. :/"
   ]
  },
  {
   "cell_type": "code",
   "execution_count": null,
   "metadata": {
    "collapsed": true
   },
   "outputs": [],
   "source": []
  }
 ],
 "metadata": {
  "kernelspec": {
   "display_name": "Python 3",
   "language": "python",
   "name": "python3"
  },
  "language_info": {
   "codemirror_mode": {
    "name": "ipython",
    "version": 3
   },
   "file_extension": ".py",
   "mimetype": "text/x-python",
   "name": "python",
   "nbconvert_exporter": "python",
   "pygments_lexer": "ipython3",
   "version": "3.5.2"
  }
 },
 "nbformat": 4,
 "nbformat_minor": 1
}
