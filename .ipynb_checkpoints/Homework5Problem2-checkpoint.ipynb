{
 "cells": [
  {
   "cell_type": "code",
   "execution_count": 1,
   "metadata": {
    "collapsed": false
   },
   "outputs": [
    {
     "data": {
      "text/plain": [
       "(463, 15)"
      ]
     },
     "execution_count": 1,
     "metadata": {},
     "output_type": "execute_result"
    }
   ],
   "source": [
    "import numpy as np\n",
    "\n",
    "alldata = np.genfromtxt('ps5.data', usecols = range(15))\n",
    "np.shape(alldata)"
   ]
  },
  {
   "cell_type": "code",
   "execution_count": 2,
   "metadata": {
    "collapsed": false
   },
   "outputs": [
    {
     "data": {
      "text/plain": [
       "array([[  2.25000000e+01,   1.42184000e+05,   8.20000000e+00, ...,\n",
       "          9.99900000e+01,   9.99900000e+01,   9.99900000e+01],\n",
       "       [  1.18100000e+02,  -5.56590000e+04,   9.20000000e-01, ...,\n",
       "          5.00000000e-02,   1.23500000e+01,   3.00000000e-02],\n",
       "       [  3.31800000e+02,  -1.01153000e+05,   1.04000000e+01, ...,\n",
       "          5.00000000e-02,   1.58200000e+01,   4.00000000e-02],\n",
       "       ..., \n",
       "       [  5.00735000e+04,   1.52750000e+04,   2.59000000e+00, ...,\n",
       "          1.20000000e-01,   1.85400000e+01,   1.10000000e-01],\n",
       "       [  5.84279000e+04,   1.95736000e+05,   1.93000000e+00, ...,\n",
       "          9.99900000e+01,   1.91100000e+01,   6.00000000e-02],\n",
       "       [  8.55340000e+04,   1.39384000e+05,   2.54000000e+00, ...,\n",
       "          6.00000000e-02,   1.70000000e+01,   4.00000000e-02]])"
      ]
     },
     "execution_count": 2,
     "metadata": {},
     "output_type": "execute_result"
    }
   ],
   "source": [
    "gdata = np.empty([463, 10])\n",
    "gdata[:,0] = alldata[:,1]*3600+alldata[:,2]*60+alldata[:,3]\n",
    "gdata[:,1] = (np.abs(alldata[:,4])*3600+alldata[:,5]*60+alldata[:,6])*np.sign(alldata[:,4])\n",
    "gdata[:,2:] = alldata[:,7:]\n",
    "gdata"
   ]
  },
  {
   "cell_type": "code",
   "execution_count": 10,
   "metadata": {
    "collapsed": false
   },
   "outputs": [
    {
     "name": "stdout",
     "output_type": "stream",
     "text": [
      "[ 13.29673563]\n"
     ]
    }
   ],
   "source": [
    "import fsps\n",
    "import matplotlib.pyplot as plt\n",
    "%matplotlib inline\n",
    "\n",
    "sp = fsps.StellarPopulation(imf_type = 2, zmet = 6., sfh = 1, tau= 100., const = 1)\n",
    "mags1 = sp.get_mags(tage= 0, bands='b')[0] # this is for just a stellar mass of 1 solar mass since that is how SFR works in this FSPS fantasyland\n",
    "print(mags1)\n",
    "\n",
    "masses = np.logspace(0,6, 1000)\n",
    "magsall = mags1+np.log10(masses)*(-2.5) # each decade decreases 2.5 mags"
   ]
  },
  {
   "cell_type": "code",
   "execution_count": 11,
   "metadata": {
    "collapsed": false
   },
   "outputs": [
    {
     "data": {
      "text/plain": [
       "<matplotlib.text.Text at 0x7f17ef8d2438>"
      ]
     },
     "execution_count": 11,
     "metadata": {},
     "output_type": "execute_result"
    },
    {
     "data": {
      "image/png": "[encoded data removed]",
      "text/plain": [
       "<matplotlib.figure.Figure at 0x7f1865d0b5c0>"
      ]
     },
     "metadata": {},
     "output_type": "display_data"
    }
   ],
   "source": [
    "plt.figure(figsize=(10,10))\n",
    "plt.plot(np.log10(masses), magsall)\n",
    "plt.xlabel('$log_{10}$($M_*$)',fontsize = 20)\n",
    "plt.ylabel('$M_B$',fontsize = 20)"
   ]
  },
  {
   "cell_type": "code",
   "execution_count": 12,
   "metadata": {
    "collapsed": false
   },
   "outputs": [
    {
     "name": "stdout",
     "output_type": "stream",
     "text": [
      "-2.5 13.2967356314\n"
     ]
    }
   ],
   "source": [
    "from scipy import stats\n",
    "\n",
    "slope, intercept, r_value, p_value, std_err = stats.linregress(np.log10(masses), magsall)\n",
    "print(slope, intercept)\n",
    "\n",
    "# magsall = a*logmasses + mag[0]"
   ]
  },
  {
   "cell_type": "code",
   "execution_count": 1,
   "metadata": {
    "collapsed": true
   },
   "outputs": [],
   "source": [
    "# as for the uncertainties, .1 mags in M_B\n",
    "# mag + .1 = mag - 2.5*mass_unc\n",
    "# mass_unc = .04 in logspace"
   ]
  },
  {
   "cell_type": "markdown",
   "metadata": {},
   "source": [
    "Relatively bright stars (A or B maybe) will peak in B band, and these stars are not too long lived. They will likely remain in their birth clouds, but their birth clouds will almost definitely be very dusty (hence the birth). Therefore, a significant portion of the original B-band emission will be reprocessed by dust and ISM. Therefore, M_B will usually be an underestimate of the actual M_B. If in fact there are even bigger stars being born then they will wash out the B band peak but the B band emission from these larger stars will likely be even more processed since O stars will drift out of their dusty nests even less. "
   ]
  },
  {
   "cell_type": "code",
   "execution_count": null,
   "metadata": {
    "collapsed": true
   },
   "outputs": [],
   "source": []
  }
 ],
 "metadata": {
  "kernelspec": {
   "display_name": "Python 3",
   "language": "python",
   "name": "python3"
  },
  "language_info": {
   "codemirror_mode": {
    "name": "ipython",
    "version": 3
   },
   "file_extension": ".py",
   "mimetype": "text/x-python",
   "name": "python",
   "nbconvert_exporter": "python",
   "pygments_lexer": "ipython3",
   "version": "3.5.2"
  }
 },
 "nbformat": 4,
 "nbformat_minor": 1
}
