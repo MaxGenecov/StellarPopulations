{
 "cells": [
  {
   "cell_type": "code",
   "execution_count": 5,
   "metadata": {
    "collapsed": true
   },
   "outputs": [],
   "source": [
    "import numpy as np\n",
    "import matplotlib.pyplot as plt\n",
    "import random\n",
    "%matplotlib inline"
   ]
  },
  {
   "cell_type": "code",
   "execution_count": 46,
   "metadata": {
    "collapsed": true
   },
   "outputs": [],
   "source": [
    "def fakelinedata(m, b, xspan, pointnum, roughstd):\n",
    "    x = random.sample(range(xspan), pointnum)\n",
    "    \n",
    "    fakem = np.random.normal(m, 5*roughstd, pointnum)\n",
    "    fakeb = np.random.normal(b, 2*roughstd, pointnum)\n",
    "    y = fakem*x + fakeb\n",
    "    \n",
    "    fakeerror = np.random.normal(50, np.sqrt(5*roughstd**2+2*roughstd**2), pointnum)\n",
    "    fakearray = np.array([x,y])\n",
    "    return fakearray, fakeerror"
   ]
  },
  {
   "cell_type": "code",
   "execution_count": 67,
   "metadata": {
    "collapsed": false
   },
   "outputs": [],
   "source": [
    "data, error = fakelinedata(5,-2,40, 20, .5)"
   ]
  },
  {
   "cell_type": "code",
   "execution_count": 68,
   "metadata": {
    "collapsed": false
   },
   "outputs": [
    {
     "data": {
      "text/plain": [
       "<Container object of 3 artists>"
      ]
     },
     "execution_count": 68,
     "metadata": {},
     "output_type": "execute_result"
    },
    {
     "data": {
      "image/png": "[encoded data removed]",
      "text/plain": [
       "<matplotlib.figure.Figure at 0x7f237ff9ba90>"
      ]
     },
     "metadata": {},
     "output_type": "display_data"
    }
   ],
   "source": [
    "plt.errorbar(data[0,0:], data[1,0:], yerr = error, fmt = '.')"
   ]
  },
  {
   "cell_type": "code",
   "execution_count": 75,
   "metadata": {
    "collapsed": false
   },
   "outputs": [],
   "source": [
    "def gaussian_model(mu, sigma, x):\n",
    "    P = (2*np.pi*sigma**2)**(-1)*np.e**(-(mu-x)**2/(2*sigma**2))\n",
    "    return P\n",
    "\n",
    "def logL(theta, x, y):\n",
    "    return -.5 * np.sum((y-gaussian_model(mu = theta[0], sigma = theta[1], x = x))**2 / theta[1]**2 + np.log(2*np.pi*theta[1]**2))\n",
    "\n",
    "def lnprior(theta):\n",
    "    if theta[0] > 0 and theta[1] < 10.:\n",
    "        return 0.\n",
    "    else:\n",
    "        return -np.inf\n",
    "\n",
    "def lnprob(theta, x, y):\n",
    "    return lnprior(theta) + logL(theta, x, y)\n",
    "\n",
    "\n",
    "def Gaussian_MCMC(nsteps, x, y):\n",
    "    import numpy as np\n",
    "    n = 0\n",
    "    thetas = [(.3,.1)]\n",
    "    probs = []\n",
    "    acceptance = []\n",
    "    probs.append(lnprob(thetas[0], x, y))\n",
    "    while n < nsteps:\n",
    "        theta_guess = .1*np.array(random.sample(range(-100,100), 2))\n",
    "        prob_calc = lnprob(theta_guess, x, y)\n",
    "        if prob_calc > probs[n]:\n",
    "            probs.append(prob_calc)\n",
    "            thetas.append(theta_guess)\n",
    "            acceptance.append(n)\n",
    "        else:\n",
    "            if prob_calc > random.uniform(.25, .5):\n",
    "                probs.append(prob_calc)\n",
    "                thetas.append(theta_guess)\n",
    "                acceptance.append(n)\n",
    "            else:\n",
    "                probs.append(probs[n])\n",
    "                thetas.append(thetas[n])\n",
    "        n+= 1\n",
    "    thetas[::-1].pop()\n",
    "    thetas[::-1].pop()\n",
    "    probs[::-1].pop()\n",
    "    probs[::-1].pop()\n",
    "    thetas = np.asarray(thetas)\n",
    "    return probs, thetas"
   ]
  },
  {
   "cell_type": "code",
   "execution_count": 76,
   "metadata": {
    "collapsed": false
   },
   "outputs": [
    {
     "name": "stderr",
     "output_type": "stream",
     "text": [
      "/home/max/anaconda2/envs/moresnakes/lib/python3.5/site-packages/ipykernel/__main__.py:2: RuntimeWarning: divide by zero encountered in double_scalars\n",
      "  from ipykernel import kernelapp as app\n",
      "/home/max/anaconda2/envs/moresnakes/lib/python3.5/site-packages/ipykernel/__main__.py:2: RuntimeWarning: divide by zero encountered in true_divide\n",
      "  from ipykernel import kernelapp as app\n",
      "/home/max/anaconda2/envs/moresnakes/lib/python3.5/site-packages/ipykernel/__main__.py:2: RuntimeWarning: invalid value encountered in multiply\n",
      "  from ipykernel import kernelapp as app\n",
      "/home/max/anaconda2/envs/moresnakes/lib/python3.5/site-packages/ipykernel/__main__.py:6: RuntimeWarning: divide by zero encountered in log\n"
     ]
    }
   ],
   "source": [
    "probs, thetas = Gaussian_MCMC(10000, data[0,0:], data[1,0:])"
   ]
  },
  {
   "cell_type": "code",
   "execution_count": 77,
   "metadata": {
    "collapsed": false
   },
   "outputs": [
    {
     "data": {
      "text/plain": [
       "[<matplotlib.lines.Line2D at 0x7f237fd516a0>]"
      ]
     },
     "execution_count": 77,
     "metadata": {},
     "output_type": "execute_result"
    },
    {
     "data": {
      "image/png": "[encoded data removed]",
      "text/plain": [
       "<matplotlib.figure.Figure at 0x7f237fdefeb8>"
      ]
     },
     "metadata": {},
     "output_type": "display_data"
    }
   ],
   "source": [
    "plt.plot(probs[400:], '.')"
   ]
  },
  {
   "cell_type": "code",
   "execution_count": 86,
   "metadata": {
    "collapsed": false
   },
   "outputs": [
    {
     "data": {
      "text/plain": [
       "[<matplotlib.lines.Line2D at 0x7f2375cbd630>]"
      ]
     },
     "execution_count": 86,
     "metadata": {},
     "output_type": "execute_result"
    },
    {
     "data": {
      "image/png": "[encoded data removed]",
      "text/plain": [
       "<matplotlib.figure.Figure at 0x7f2375c80a20>"
      ]
     },
     "metadata": {},
     "output_type": "display_data"
    }
   ],
   "source": [
    "plt.plot(thetas[400:,0], '.')\n"
   ]
  },
  {
   "cell_type": "code",
   "execution_count": 89,
   "metadata": {
    "collapsed": false
   },
   "outputs": [
    {
     "data": {
      "text/plain": [
       "(array([  417.,     0.,     0.,     0.,     0.,     0.,     0.,     0.,\n",
       "            0.,     0.,     0.,     0.,     0.,     0.,     0.,   150.,\n",
       "            0.,     0.,     0.,     0.,   807.,     0.,     0.,     0.,\n",
       "            0.,     0.,     0.,     0.,  1938.,  5889.]),\n",
       " array([ 7.4 ,  7.47,  7.54,  7.61,  7.68,  7.75,  7.82,  7.89,  7.96,\n",
       "         8.03,  8.1 ,  8.17,  8.24,  8.31,  8.38,  8.45,  8.52,  8.59,\n",
       "         8.66,  8.73,  8.8 ,  8.87,  8.94,  9.01,  9.08,  9.15,  9.22,\n",
       "         9.29,  9.36,  9.43,  9.5 ]),\n",
       " <a list of 30 Patch objects>)"
      ]
     },
     "execution_count": 89,
     "metadata": {},
     "output_type": "execute_result"
    },
    {
     "data": {
      "image/png": "[encoded data removed]",
      "text/plain": [
       "<matplotlib.figure.Figure at 0x7f2375a7f9e8>"
      ]
     },
     "metadata": {},
     "output_type": "display_data"
    }
   ],
   "source": [
    "plt.hist(thetas[800:,0], bins = 30)"
   ]
  },
  {
   "cell_type": "code",
   "execution_count": 79,
   "metadata": {
    "collapsed": false
   },
   "outputs": [
    {
     "data": {
      "text/plain": [
       "[<matplotlib.lines.Line2D at 0x7f237fc97780>]"
      ]
     },
     "execution_count": 79,
     "metadata": {},
     "output_type": "execute_result"
    },
    {
     "data": {
      "image/png": "[encoded data removed]",
      "text/plain": [
       "<matplotlib.figure.Figure at 0x7f237fccf208>"
      ]
     },
     "metadata": {},
     "output_type": "display_data"
    }
   ],
   "source": [
    "plt.plot(thetas[400:,1], '.')"
   ]
  },
  {
   "cell_type": "code",
   "execution_count": 83,
   "metadata": {
    "collapsed": false
   },
   "outputs": [],
   "source": [
    "import emcee\n",
    "import corner"
   ]
  },
  {
   "cell_type": "code",
   "execution_count": null,
   "metadata": {
    "collapsed": true
   },
   "outputs": [],
   "source": []
  }
 ],
 "metadata": {
  "kernelspec": {
   "display_name": "Python 3",
   "language": "python",
   "name": "python3"
  },
  "language_info": {
   "codemirror_mode": {
    "name": "ipython",
    "version": 3
   },
   "file_extension": ".py",
   "mimetype": "text/x-python",
   "name": "python",
   "nbconvert_exporter": "python",
   "pygments_lexer": "ipython3",
   "version": "3.5.2"
  }
 },
 "nbformat": 4,
 "nbformat_minor": 1
}
