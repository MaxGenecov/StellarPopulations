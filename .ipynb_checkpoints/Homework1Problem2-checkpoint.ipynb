{
 "cells": [
  {
   "cell_type": "code",
   "execution_count": 1,
   "metadata": {
    "collapsed": false
   },
   "outputs": [],
   "source": [
    "import numpy as np\n",
    "import pylab as plt\n",
    "import random\n",
    "from numpy import e\n",
    "%matplotlib inline"
   ]
  },
  {
   "cell_type": "code",
   "execution_count": 2,
   "metadata": {
    "collapsed": true
   },
   "outputs": [],
   "source": [
    "def gaussian_model(mu, sigma, x):\n",
    "    P = (2*np.pi*sigma**2)**(-1)*e**(-(mu-x)**2/(2*sigma**2))\n",
    "    return P"
   ]
  },
  {
   "cell_type": "code",
   "execution_count": 35,
   "metadata": {
    "collapsed": false
   },
   "outputs": [],
   "source": [
    "def logL(theta, x, y):\n",
    "    return -.5 * np.sum((y-gaussian_model(mu = theta[0], sigma = theta[1], x = x))**2 / theta[1]**2 + np.log(2*np.pi*theta[1]**2))"
   ]
  },
  {
   "cell_type": "code",
   "execution_count": 4,
   "metadata": {
    "collapsed": true
   },
   "outputs": [],
   "source": [
    "def lnprior(theta):\n",
    "    if abs(theta[0]) < 10. and abs(theta[1]) < 10.:\n",
    "        return 0.\n",
    "    else:\n",
    "        return -np.inf"
   ]
  },
  {
   "cell_type": "code",
   "execution_count": 5,
   "metadata": {
    "collapsed": false
   },
   "outputs": [],
   "source": [
    "def lnprob(theta, x, y):\n",
    "    return lnprior(theta) + logL(theta, x, y)"
   ]
  },
  {
   "cell_type": "code",
   "execution_count": 38,
   "metadata": {
    "collapsed": false
   },
   "outputs": [],
   "source": [
    "def Gaussian_MCMC(nsteps, x, y):\n",
    "    import numpy as np\n",
    "    n = 0\n",
    "    thetas = [(5,1)]\n",
    "    probs = []\n",
    "    probs.append(lnprob(thetas[0], x, y))\n",
    "    while n < nsteps:\n",
    "        theta_guess = np.array([random.uniform(0,10), random.uniform(0,10)])\n",
    "        prob_calc = lnprob(theta_guess, x, y)\n",
    "        if prob_calc > probs[n]:\n",
    "            probs.append(prob_calc)\n",
    "            thetas.append(theta_guess)\n",
    "        else:\n",
    "            if prob_calc > random.uniform(.25, .5):\n",
    "                probs.append(prob_calc)\n",
    "                thetas.append(theta_guess)\n",
    "            else:\n",
    "                probs.append(probs[n])\n",
    "                thetas.append(thetas[n])\n",
    "        n+= 1\n",
    "    thetas[::-1].pop()\n",
    "    thetas[::-1].pop()\n",
    "    probs[::-1].pop()\n",
    "    probs[::-1].pop()\n",
    "    thetas = np.asarray(thetas)\n",
    "    return probs, thetas"
   ]
  },
  {
   "cell_type": "code",
   "execution_count": null,
   "metadata": {
    "collapsed": false
   },
   "outputs": [
    {
     "name": "stdout",
     "output_type": "stream",
     "text": [
      "> <string>(1)<module>()\n",
      "(Pdb) step\n",
      "--Call--\n",
      "> <ipython-input-38-42295266c7d8>(1)Gaussian_MCMC()\n",
      "-> def Gaussian_MCMC(nsteps, x, y):\n",
      "(Pdb) \n",
      "> <ipython-input-38-42295266c7d8>(2)Gaussian_MCMC()\n",
      "-> import numpy as np\n",
      "(Pdb) \n",
      "> <ipython-input-38-42295266c7d8>(3)Gaussian_MCMC()\n",
      "-> n = 0\n",
      "(Pdb) \n",
      "> <ipython-input-38-42295266c7d8>(4)Gaussian_MCMC()\n",
      "-> thetas = [(5,1)]\n",
      "(Pdb) \n",
      "> <ipython-input-38-42295266c7d8>(5)Gaussian_MCMC()\n",
      "-> probs = []\n",
      "(Pdb) next\n",
      "> <ipython-input-38-42295266c7d8>(6)Gaussian_MCMC()\n",
      "-> probs.append(lnprob(thetas[0], x, y))\n",
      "(Pdb) \n",
      "> <ipython-input-38-42295266c7d8>(7)Gaussian_MCMC()\n",
      "-> while n < nsteps:\n",
      "(Pdb) probs\n",
      "[-459.46926660233623]\n",
      "(Pdb) step\n",
      "> <ipython-input-38-42295266c7d8>(8)Gaussian_MCMC()\n",
      "-> theta_guess = np.array([random.uniform(0,10), random.uniform(0,10)])\n",
      "(Pdb) \n",
      "--Call--\n",
      "> /home/max/anaconda2/envs/moresnakes/lib/python3.5/random.py(342)uniform()\n",
      "-> def uniform(self, a, b):\n",
      "(Pdb) \n",
      "> /home/max/anaconda2/envs/moresnakes/lib/python3.5/random.py(344)uniform()\n",
      "-> return a + (b-a) * self.random()\n",
      "(Pdb) \n",
      "--Return--\n",
      "> /home/max/anaconda2/envs/moresnakes/lib/python3.5/random.py(344)uniform()->9.009061259245641\n",
      "-> return a + (b-a) * self.random()\n",
      "(Pdb) \n",
      "--Call--\n",
      "> /home/max/anaconda2/envs/moresnakes/lib/python3.5/random.py(342)uniform()\n",
      "-> def uniform(self, a, b):\n",
      "(Pdb) \n",
      "> /home/max/anaconda2/envs/moresnakes/lib/python3.5/random.py(344)uniform()\n",
      "-> return a + (b-a) * self.random()\n",
      "(Pdb) \n",
      "--Return--\n",
      "> /home/max/anaconda2/envs/moresnakes/lib/python3.5/random.py(344)uniform()->2.561280577798758\n",
      "-> return a + (b-a) * self.random()\n",
      "(Pdb) \n",
      "> <ipython-input-38-42295266c7d8>(9)Gaussian_MCMC()\n",
      "-> prob_calc = lnprob(theta_guess, x, y)\n",
      "(Pdb) \n",
      "--Call--\n",
      "> <ipython-input-5-25ffe9b1953a>(1)lnprob()\n",
      "-> def lnprob(theta, x, y):\n",
      "(Pdb) next\n",
      "> <ipython-input-5-25ffe9b1953a>(2)lnprob()\n",
      "-> return lnprior(theta) + logL(theta, x, y)\n",
      "(Pdb) step\n",
      "--Call--\n",
      "> <ipython-input-4-aa37556c9c71>(1)lnprior()\n",
      "-> def lnprior(theta):\n",
      "(Pdb) \n",
      "> <ipython-input-4-aa37556c9c71>(2)lnprior()\n",
      "-> if abs(theta[0]) < 10. and abs(theta[1]) < 10.:\n",
      "(Pdb) next\n",
      "> <ipython-input-4-aa37556c9c71>(3)lnprior()\n",
      "-> return 0.\n",
      "(Pdb) \n",
      "--Return--\n",
      "> <ipython-input-4-aa37556c9c71>(3)lnprior()->0.0\n",
      "-> return 0.\n",
      "(Pdb) \n",
      "--Call--\n",
      "> <ipython-input-35-cace57b8eb48>(1)logL()\n",
      "-> def logL(theta, x, y):\n",
      "(Pdb) \n",
      "> <ipython-input-35-cace57b8eb48>(2)logL()\n",
      "-> return -.5 * np.sum((y-gaussian_model(mu = theta[0], sigma = theta[1], x = x))**2 / theta[1]**2 + np.log(2*np.pi*theta[1]**2))\n",
      "(Pdb) \n",
      "--Return--\n",
      "> <ipython-input-35-cace57b8eb48>(2)logL()->-929.80155768265104\n",
      "-> return -.5 * np.sum((y-gaussian_model(mu = theta[0], sigma = theta[1], x = x))**2 / theta[1]**2 + np.log(2*np.pi*theta[1]**2))\n",
      "(Pdb) \n",
      "--Return--\n",
      "> <ipython-input-5-25ffe9b1953a>(2)lnprob()->-929.80155768265104\n",
      "-> return lnprior(theta) + logL(theta, x, y)\n",
      "(Pdb) logL(theta, x, y)\n",
      "-929.80155768265104\n",
      "(Pdb) step\n",
      "> <ipython-input-38-42295266c7d8>(10)Gaussian_MCMC()\n",
      "-> if prob_calc > probs[n]:\n",
      "(Pdb) \n",
      "> <ipython-input-38-42295266c7d8>(14)Gaussian_MCMC()\n",
      "-> if prob_calc > random.uniform(.25, .5):\n",
      "(Pdb) \n",
      "--Call--\n",
      "> /home/max/anaconda2/envs/moresnakes/lib/python3.5/random.py(342)uniform()\n",
      "-> def uniform(self, a, b):\n",
      "(Pdb) next\n",
      "> /home/max/anaconda2/envs/moresnakes/lib/python3.5/random.py(344)uniform()\n",
      "-> return a + (b-a) * self.random()\n",
      "(Pdb) \n",
      "--Return--\n",
      "> /home/max/anaconda2/envs/moresnakes/lib/python3.5/random.py(344)uniform()->0.48352294309150734\n",
      "-> return a + (b-a) * self.random()\n",
      "(Pdb) \n",
      "> <ipython-input-38-42295266c7d8>(18)Gaussian_MCMC()\n",
      "-> probs.append(probs[n])\n",
      "(Pdb) \n",
      "> <ipython-input-38-42295266c7d8>(19)Gaussian_MCMC()\n",
      "-> thetas.append(thetas[n])\n",
      "(Pdb) prob_calc\n",
      "-929.80155768265104\n",
      "(Pdb) next\n",
      "> <ipython-input-38-42295266c7d8>(20)Gaussian_MCMC()\n",
      "-> n+= 1\n",
      "(Pdb) \n",
      "> <ipython-input-38-42295266c7d8>(7)Gaussian_MCMC()\n",
      "-> while n < nsteps:\n",
      "(Pdb) \n",
      "> <ipython-input-38-42295266c7d8>(8)Gaussian_MCMC()\n",
      "-> theta_guess = np.array([random.uniform(0,10), random.uniform(0,10)])\n",
      "(Pdb) \n",
      "> <ipython-input-38-42295266c7d8>(9)Gaussian_MCMC()\n",
      "-> prob_calc = lnprob(theta_guess, x, y)\n",
      "(Pdb) theta_guess\n",
      "array([ 8.6653315 ,  9.71059431])\n",
      "(Pdb) next\n",
      "> <ipython-input-38-42295266c7d8>(10)Gaussian_MCMC()\n",
      "-> if prob_calc > probs[n]:\n",
      "(Pdb) prob_calc\n",
      "-1596.0837893911842\n",
      "(Pdb) next\n",
      "> <ipython-input-38-42295266c7d8>(14)Gaussian_MCMC()\n",
      "-> if prob_calc > random.uniform(.25, .5):\n",
      "(Pdb) \n",
      "> <ipython-input-38-42295266c7d8>(18)Gaussian_MCMC()\n",
      "-> probs.append(probs[n])\n",
      "(Pdb) \n",
      "> <ipython-input-38-42295266c7d8>(19)Gaussian_MCMC()\n",
      "-> thetas.append(thetas[n])\n",
      "(Pdb) \n",
      "> <ipython-input-38-42295266c7d8>(20)Gaussian_MCMC()\n",
      "-> n+= 1\n",
      "(Pdb) \n",
      "> <ipython-input-38-42295266c7d8>(7)Gaussian_MCMC()\n",
      "-> while n < nsteps:\n",
      "(Pdb) \n",
      "> <ipython-input-38-42295266c7d8>(8)Gaussian_MCMC()\n",
      "-> theta_guess = np.array([random.uniform(0,10), random.uniform(0,10)])\n",
      "(Pdb) \n",
      "> <ipython-input-38-42295266c7d8>(9)Gaussian_MCMC()\n",
      "-> prob_calc = lnprob(theta_guess, x, y)\n",
      "(Pdb) theta_guess\n",
      "array([ 2.80914073,  2.58592444])\n",
      "(Pdb) prob_calc\n",
      "-1596.0837893911842\n",
      "(Pdb) next\n",
      "> <ipython-input-38-42295266c7d8>(10)Gaussian_MCMC()\n",
      "-> if prob_calc > probs[n]:\n",
      "(Pdb) \n",
      "> <ipython-input-38-42295266c7d8>(14)Gaussian_MCMC()\n",
      "-> if prob_calc > random.uniform(.25, .5):\n",
      "(Pdb) \n",
      "> <ipython-input-38-42295266c7d8>(18)Gaussian_MCMC()\n",
      "-> probs.append(probs[n])\n",
      "(Pdb) \n",
      "> <ipython-input-38-42295266c7d8>(19)Gaussian_MCMC()\n",
      "-> thetas.append(thetas[n])\n",
      "(Pdb) \n",
      "> <ipython-input-38-42295266c7d8>(20)Gaussian_MCMC()\n",
      "-> n+= 1\n",
      "(Pdb) lnprob((5,1), x, y)\n",
      "-459.46926660233623\n",
      "(Pdb) y-gaussian_model(mu = 5, sigma = 1, x = x))**2\n",
      "*** SyntaxError: invalid syntax\n",
      "(Pdb) (y-gaussian_model(mu = 5, sigma = 1, x = x))**2\n",
      "array([ 0.,  0.,  0.,  0.,  0.,  0.,  0.,  0.,  0.,  0.,  0.,  0.,  0.,\n",
      "        0.,  0.,  0.,  0.,  0.,  0.,  0.,  0.,  0.,  0.,  0.,  0.,  0.,\n",
      "        0.,  0.,  0.,  0.,  0.,  0.,  0.,  0.,  0.,  0.,  0.,  0.,  0.,\n",
      "        0.,  0.,  0.,  0.,  0.,  0.,  0.,  0.,  0.,  0.,  0.,  0.,  0.,\n",
      "        0.,  0.,  0.,  0.,  0.,  0.,  0.,  0.,  0.,  0.,  0.,  0.,  0.,\n",
      "        0.,  0.,  0.,  0.,  0.,  0.,  0.,  0.,  0.,  0.,  0.,  0.,  0.,\n",
      "        0.,  0.,  0.,  0.,  0.,  0.,  0.,  0.,  0.,  0.,  0.,  0.,  0.,\n",
      "        0.,  0.,  0.,  0.,  0.,  0.,  0.,  0.,  0.,  0.,  0.,  0.,  0.,\n",
      "        0.,  0.,  0.,  0.,  0.,  0.,  0.,  0.,  0.,  0.,  0.,  0.,  0.,\n",
      "        0.,  0.,  0.,  0.,  0.,  0.,  0.,  0.,  0.,  0.,  0.,  0.,  0.,\n",
      "        0.,  0.,  0.,  0.,  0.,  0.,  0.,  0.,  0.,  0.,  0.,  0.,  0.,\n",
      "        0.,  0.,  0.,  0.,  0.,  0.,  0.,  0.,  0.,  0.,  0.,  0.,  0.,\n",
      "        0.,  0.,  0.,  0.,  0.,  0.,  0.,  0.,  0.,  0.,  0.,  0.,  0.,\n",
      "        0.,  0.,  0.,  0.,  0.,  0.,  0.,  0.,  0.,  0.,  0.,  0.,  0.,\n",
      "        0.,  0.,  0.,  0.,  0.,  0.,  0.,  0.,  0.,  0.,  0.,  0.,  0.,\n",
      "        0.,  0.,  0.,  0.,  0.,  0.,  0.,  0.,  0.,  0.,  0.,  0.,  0.,\n",
      "        0.,  0.,  0.,  0.,  0.,  0.,  0.,  0.,  0.,  0.,  0.,  0.,  0.,\n",
      "        0.,  0.,  0.,  0.,  0.,  0.,  0.,  0.,  0.,  0.,  0.,  0.,  0.,\n",
      "        0.,  0.,  0.,  0.,  0.,  0.,  0.,  0.,  0.,  0.,  0.,  0.,  0.,\n",
      "        0.,  0.,  0.,  0.,  0.,  0.,  0.,  0.,  0.,  0.,  0.,  0.,  0.,\n",
      "        0.,  0.,  0.,  0.,  0.,  0.,  0.,  0.,  0.,  0.,  0.,  0.,  0.,\n",
      "        0.,  0.,  0.,  0.,  0.,  0.,  0.,  0.,  0.,  0.,  0.,  0.,  0.,\n",
      "        0.,  0.,  0.,  0.,  0.,  0.,  0.,  0.,  0.,  0.,  0.,  0.,  0.,\n",
      "        0.,  0.,  0.,  0.,  0.,  0.,  0.,  0.,  0.,  0.,  0.,  0.,  0.,\n",
      "        0.,  0.,  0.,  0.,  0.,  0.,  0.,  0.,  0.,  0.,  0.,  0.,  0.,\n",
      "        0.,  0.,  0.,  0.,  0.,  0.,  0.,  0.,  0.,  0.,  0.,  0.,  0.,\n",
      "        0.,  0.,  0.,  0.,  0.,  0.,  0.,  0.,  0.,  0.,  0.,  0.,  0.,\n",
      "        0.,  0.,  0.,  0.,  0.,  0.,  0.,  0.,  0.,  0.,  0.,  0.,  0.,\n",
      "        0.,  0.,  0.,  0.,  0.,  0.,  0.,  0.,  0.,  0.,  0.,  0.,  0.,\n",
      "        0.,  0.,  0.,  0.,  0.,  0.,  0.,  0.,  0.,  0.,  0.,  0.,  0.,\n",
      "        0.,  0.,  0.,  0.,  0.,  0.,  0.,  0.,  0.,  0.,  0.,  0.,  0.,\n",
      "        0.,  0.,  0.,  0.,  0.,  0.,  0.,  0.,  0.,  0.,  0.,  0.,  0.,\n",
      "        0.,  0.,  0.,  0.,  0.,  0.,  0.,  0.,  0.,  0.,  0.,  0.,  0.,\n",
      "        0.,  0.,  0.,  0.,  0.,  0.,  0.,  0.,  0.,  0.,  0.,  0.,  0.,\n",
      "        0.,  0.,  0.,  0.,  0.,  0.,  0.,  0.,  0.,  0.,  0.,  0.,  0.,\n",
      "        0.,  0.,  0.,  0.,  0.,  0.,  0.,  0.,  0.,  0.,  0.,  0.,  0.,\n",
      "        0.,  0.,  0.,  0.,  0.,  0.,  0.,  0.,  0.,  0.,  0.,  0.,  0.,\n",
      "        0.,  0.,  0.,  0.,  0.,  0.,  0.,  0.,  0.,  0.,  0.,  0.,  0.,\n",
      "        0.,  0.,  0.,  0.,  0.,  0.])\n"
     ]
    }
   ],
   "source": [
    "x = np.linspace(-5,15,500)\n",
    "y = gaussian_model(mu = 5, sigma = 1, x = x)\n",
    "\n",
    "import pdb\n",
    "pdb.run('Gaussian_MCMC(1000, x, y)')"
   ]
  },
  {
   "cell_type": "code",
   "execution_count": 37,
   "metadata": {
    "collapsed": false
   },
   "outputs": [
    {
     "name": "stdout",
     "output_type": "stream",
     "text": [
      "[[ 5.          1.        ]\n",
      " [ 5.          1.        ]\n",
      " [ 5.          1.        ]\n",
      " ..., \n",
      " [-7.37305115  0.2557758 ]\n",
      " [-7.37305115  0.2557758 ]\n",
      " [-7.37305115  0.2557758 ]]\n"
     ]
    },
    {
     "data": {
      "image/png": "[encoded data removed]",
      "text/plain": [
       "<matplotlib.figure.Figure at 0x7f9af32e04a8>"
      ]
     },
     "metadata": {},
     "output_type": "display_data"
    }
   ],
   "source": [
    "plt.plot(thetas[0:,0], '.')\n",
    "print(thetas)"
   ]
  },
  {
   "cell_type": "code",
   "execution_count": 25,
   "metadata": {
    "collapsed": false
   },
   "outputs": [
    {
     "name": "stdout",
     "output_type": "stream",
     "text": [
      "-7.54492757529\n"
     ]
    },
    {
     "data": {
      "image/png": "[encoded data removed]",
      "text/plain": [
       "<matplotlib.figure.Figure at 0x7f9af3460128>"
      ]
     },
     "metadata": {},
     "output_type": "display_data"
    }
   ],
   "source": [
    "plt.hist(thetas[0:,0], bins = 50)\n",
    "print(np.mean(thetas[10:,0]))"
   ]
  },
  {
   "cell_type": "code",
   "execution_count": 23,
   "metadata": {
    "collapsed": false
   },
   "outputs": [
    {
     "data": {
      "text/plain": [
       "[<matplotlib.lines.Line2D at 0x7f9af354f2e8>]"
      ]
     },
     "execution_count": 23,
     "metadata": {},
     "output_type": "execute_result"
    },
    {
     "data": {
      "image/png": "[encoded data removed]",
      "text/plain": [
       "<matplotlib.figure.Figure at 0x7f9af3adb1d0>"
      ]
     },
     "metadata": {},
     "output_type": "display_data"
    }
   ],
   "source": [
    "plt.plot(x,y)"
   ]
  },
  {
   "cell_type": "code",
   "execution_count": null,
   "metadata": {
    "collapsed": true
   },
   "outputs": [],
   "source": []
  }
 ],
 "metadata": {
  "kernelspec": {
   "display_name": "Python 3",
   "language": "python",
   "name": "python3"
  },
  "language_info": {
   "codemirror_mode": {
    "name": "ipython",
    "version": 3
   },
   "file_extension": ".py",
   "mimetype": "text/x-python",
   "name": "python",
   "nbconvert_exporter": "python",
   "pygments_lexer": "ipython3",
   "version": "3.5.2"
  }
 },
 "nbformat": 4,
 "nbformat_minor": 1
}
