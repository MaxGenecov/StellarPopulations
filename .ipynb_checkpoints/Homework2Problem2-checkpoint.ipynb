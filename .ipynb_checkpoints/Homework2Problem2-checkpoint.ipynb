{
 "cells": [
  {
   "cell_type": "code",
   "execution_count": 5,
   "metadata": {
    "collapsed": true
   },
   "outputs": [],
   "source": [
    "import numpy as np\n",
    "import matplotlib.pyplot as plt\n",
    "from scipy import integrate\n",
    "%matplotlib inline"
   ]
  },
  {
   "cell_type": "code",
   "execution_count": 60,
   "metadata": {
    "collapsed": false
   },
   "outputs": [
    {
     "data": {
      "text/plain": [
       "1001"
      ]
     },
     "execution_count": 60,
     "metadata": {},
     "output_type": "execute_result"
    },
    {
     "data": {
      "image/png": "[encoded data removed]",
      "text/plain": [
       "<matplotlib.figure.Figure at 0x7f9363d41ef0>"
      ]
     },
     "metadata": {},
     "output_type": "display_data"
    }
   ],
   "source": [
    "def powerLH(m_min, m_max, alpha, bins):\n",
    "    value, error = scipy.integrate.quad(lambda m: m**(-alpha), m_min, m_max)\n",
    "    c = 1./value\n",
    "    M = np.logspace(np.log(m_min), np.log(m_max), bins)\n",
    "    P = c*M**(-alpha)\n",
    "    return P\n",
    "\n",
    "testM = np.logspace(-1, 2, 1000)\n",
    "test = powerLH(.001, 10, 2.5, 1000)\n",
    "\n",
    "randmasses = np.random.choice(testM, 10000000, p = test/sum(test))\n",
    "plt.loglog(testM,test/sum(test))\n",
    "n, bins, patches = plt.hist(randmasses, bins = 1000)\n",
    "error = np.sqrt(bins)\n",
    "len(error)"
   ]
  },
  {
   "cell_type": "code",
   "execution_count": 66,
   "metadata": {
    "collapsed": false,
    "scrolled": true
   },
   "outputs": [
    {
     "name": "stdout",
     "output_type": "stream",
     "text": [
      "NaN value of lnprob for parameters: \n",
      "[ -2.95805936e-05   1.11528781e-04   3.13392568e-05   4.54830485e-05]\n",
      "[ -1.41258615e-04  -1.03456056e-04   4.16602078e-05   1.25624415e-05]\n",
      "[ -7.48964304e-05  -7.36074183e-05  -8.28724711e-05   5.29190857e-05]\n",
      "[  2.12274826e-04  -7.31404005e-05   1.19084288e-04  -1.78169314e-04]\n",
      "[  6.44231620e-05  -7.60606961e-05  -1.57030174e-04  -4.74012011e-06]\n",
      "[ -5.44080719e-05  -1.21263542e-04  -7.12516022e-05  -1.30789971e-04]\n",
      "[  6.41312734e-06  -4.12485138e-05  -1.63615814e-04   5.08209198e-05]\n",
      "[  5.21072854e-05  -2.52997186e-05   8.00462866e-05  -1.38511906e-04]\n",
      "[  1.95497439e-04  -3.93286370e-05   1.11104438e-04   1.72011599e-04]\n",
      "[  7.82453835e-05  -4.21970944e-05  -2.21497274e-04  -4.92925657e-05]\n",
      "[ -5.97021982e-05  -4.03322472e-05  -6.55038926e-05   1.28019315e-04]\n",
      "[ -3.06406909e-05   2.17631692e-04   3.22133480e-05   1.43243566e-04]\n",
      "[  8.74472728e-06  -3.09438833e-05  -1.00949376e-04   2.53175385e-05]\n",
      "[ -2.06803328e-05  -1.29602269e-04   2.31068122e-05   1.75873725e-05]\n",
      "[  2.92159185e-04  -2.08521692e-05  -2.69376516e-05   4.49773077e-05]\n",
      "[ -2.05109910e-04   8.14458103e-05   8.84458054e-06   8.45637879e-05]\n",
      "[ -2.11139029e-05  -1.60945012e-05  -1.21092436e-04   1.18441494e-04]\n",
      "[ -5.78976251e-05   1.70725325e-04  -6.90291963e-05   7.36080848e-05]\n",
      "[  1.13934513e-04  -6.16029858e-05   5.65119561e-06   1.27949063e-05]\n",
      "[  1.18332206e-04  -8.82774471e-05  -9.10851652e-06   5.04645237e-05]\n",
      "[ -5.81880402e-05  -3.96591598e-05  -7.91516775e-05   5.24032880e-05]\n",
      "[ -7.73216550e-05  -8.38875443e-05  -1.09681883e-05   4.85839829e-05]\n",
      "[  4.43532178e-05  -2.31441824e-05  -4.76931639e-05   9.13506180e-06]\n",
      "[ -1.60498663e-04   3.94182918e-05  -1.13606103e-04   3.19545460e-05]\n",
      "[ -2.32130174e-05  -1.35277909e-04  -9.91922931e-06   1.21338896e-05]\n",
      "[ -1.10303936e-04   5.38802820e-05  -7.20935371e-05   1.14637242e-04]\n",
      "[  1.85130452e-04  -1.42793415e-04   9.91385026e-05  -1.36715669e-04]\n",
      "[ -1.76913905e-05   1.11759625e-04  -3.93232549e-05   1.00583946e-04]\n",
      "[  2.23617229e-04  -2.07582474e-05   6.43599551e-05   1.62983841e-05]\n",
      "[ -3.79493612e-05  -7.21073867e-05   1.83208435e-05   1.15476669e-04]\n",
      "[ -1.12284118e-04  -4.10303044e-05  -4.70133785e-05   1.33381760e-04]\n",
      "[  9.75608935e-05  -2.20914998e-04   7.53479888e-05   1.71668525e-05]\n",
      "[  6.61905826e-05  -1.18017342e-04  -2.66047966e-05  -1.03757677e-04]\n",
      "[ -4.43725294e-05  -1.03889940e-05  -1.38263892e-04   1.70728764e-04]\n",
      "[ -1.33803879e-05  -1.57029367e-04  -9.55858859e-06   1.78529863e-05]\n",
      "[  4.47256614e-05  -4.69523315e-05   1.58330566e-04  -8.49729086e-05]\n",
      "[ -5.96496560e-05   1.61136250e-04   1.11519927e-04  -9.01400688e-05]\n",
      "[  1.77174283e-04  -5.33456498e-05  -1.68883852e-05   2.72092706e-04]\n",
      "[ -1.31319541e-04  -7.33577862e-05  -1.39587525e-04   5.21883677e-05]\n",
      "[ -4.94441851e-06  -1.72857945e-05   6.13642298e-05   1.56449542e-04]\n",
      "[ -1.30577942e-04   6.37485712e-05   6.03542616e-05  -1.04484756e-04]\n",
      "[ -2.23746585e-04  -1.04685698e-04  -2.66601846e-05  -1.42158941e-04]\n",
      "[ -1.56979982e-04   1.18085766e-05   2.34816188e-05   1.57412077e-04]\n",
      "[ -1.27738792e-05  -2.05625372e-05   1.01036797e-04  -7.19043395e-05]\n",
      "[  1.78086244e-05  -3.17023542e-05   5.95201691e-05  -4.87738638e-05]\n",
      "[ -2.34467032e-05   4.05871771e-05   1.54076664e-04   1.84850316e-04]\n",
      "[ -7.13124688e-05  -1.10610843e-04  -1.87223599e-06  -1.67017528e-05]\n",
      "[  2.94894659e-05  -1.24507562e-05  -3.42330407e-05  -2.74455285e-05]\n",
      "[ -1.23678887e-04   4.76482394e-05   1.40548733e-05   3.83446520e-05]\n",
      "[ -4.10685078e-05   7.44556953e-07  -1.37883981e-04  -6.55413433e-05]\n",
      "[ -1.20991671e-04  -1.08557322e-04  -7.32694151e-05  -5.86450379e-05]\n",
      "[  1.21917691e-04  -1.14881166e-04  -7.74232917e-05  -8.51476487e-05]\n",
      "[  1.27956892e-04  -9.08015401e-05   8.96767592e-05   4.57122837e-06]\n",
      "[  1.28623608e-04  -8.86804307e-05   1.97177219e-04   1.74024617e-05]\n",
      "[ -4.98481233e-05  -1.39393931e-04   7.67442193e-05   1.50088142e-04]\n",
      "[ -4.82178311e-05  -8.01667563e-06   6.72743461e-05  -4.88308836e-05]\n",
      "[ -1.75724202e-04   3.16753464e-05   1.52822653e-04  -5.79169130e-05]\n",
      "[  9.87622919e-05  -4.30500179e-05  -9.39703519e-05   1.30765550e-04]\n",
      "[ -2.93780790e-05   7.81368940e-05  -5.87540011e-05   1.96094526e-04]\n",
      "[ -2.26510790e-05   4.91399565e-05   6.65915331e-05   1.61427317e-04]\n",
      "[ -1.29636498e-04  -7.86788442e-05   9.43931100e-05  -4.39010808e-07]\n",
      "[  6.52998641e-06  -1.00404341e-05  -2.87041459e-05   6.59899406e-05]\n",
      "[ -9.70765324e-05  -1.66125858e-04   1.65489895e-04   2.51343607e-04]\n",
      "[ -7.53336145e-05   4.47541055e-05  -3.55628428e-05   1.78883006e-04]\n",
      "[  6.61775669e-05  -5.81003219e-05   7.50406079e-05  -6.87798811e-05]\n",
      "[ -5.59006503e-05   1.28101847e-05   3.54831765e-05   4.64156475e-05]\n",
      "[  1.05173373e-04  -6.59005915e-05   7.96225773e-05   3.56167906e-05]\n",
      "[  2.30172357e-04  -6.60760077e-05  -5.32482512e-05  -1.98727383e-05]\n",
      "[ -1.66618467e-04   6.26799475e-05  -1.12363250e-04   1.13738590e-04]\n",
      "[  3.35559486e-05  -1.99326516e-05   2.14388404e-04  -1.04830247e-04]\n",
      "[  4.46467484e-05  -1.41118417e-04   1.12935218e-04  -8.84630123e-05]\n",
      "[  1.63130678e-05  -4.67570699e-06  -9.92731328e-05  -8.06970477e-06]\n",
      "[ -6.10546021e-05  -2.15271183e-04  -1.77549365e-04   1.79555874e-04]\n"
     ]
    },
    {
     "name": "stderr",
     "output_type": "stream",
     "text": [
      "/home/max/anaconda2/envs/moresnakes/lib/python3.5/site-packages/ipykernel/__main__.py:2: RuntimeWarning: invalid value encountered in double_scalars\n",
      "  from ipykernel import kernelapp as app\n",
      "/home/max/anaconda2/envs/moresnakes/lib/python3.5/site-packages/scipy/integrate/quadpack.py:356: IntegrationWarning: The occurrence of roundoff error is detected, which prevents \n",
      "  the requested tolerance from being achieved.  The error may be \n",
      "  underestimated.\n",
      "  warnings.warn(msg, IntegrationWarning)\n",
      "/home/max/anaconda2/envs/moresnakes/lib/python3.5/site-packages/ipykernel/__main__.py:4: RuntimeWarning: invalid value encountered in log\n"
     ]
    },
    {
     "ename": "ValueError",
     "evalue": "lnprob returned NaN.",
     "output_type": "error",
     "traceback": [
      "\u001b[0;31m---------------------------------------------------------------------------\u001b[0m",
      "\u001b[0;31mValueError\u001b[0m                                Traceback (most recent call last)",
      "\u001b[0;32m<ipython-input-66-da78d1a4ed9a>\u001b[0m in \u001b[0;36m<module>\u001b[0;34m()\u001b[0m\n\u001b[1;32m     18\u001b[0m \u001b[0;34m\u001b[0m\u001b[0m\n\u001b[1;32m     19\u001b[0m \u001b[0msampler\u001b[0m \u001b[0;34m=\u001b[0m \u001b[0memcee\u001b[0m\u001b[0;34m.\u001b[0m\u001b[0mEnsembleSampler\u001b[0m\u001b[0;34m(\u001b[0m\u001b[0mnwalkers\u001b[0m\u001b[0;34m,\u001b[0m \u001b[0mndim\u001b[0m\u001b[0;34m,\u001b[0m \u001b[0mlnprob\u001b[0m\u001b[0;34m,\u001b[0m \u001b[0margs\u001b[0m \u001b[0;34m=\u001b[0m \u001b[0;34m(\u001b[0m\u001b[0mbins\u001b[0m\u001b[0;34m,\u001b[0m \u001b[0mn\u001b[0m\u001b[0;34m,\u001b[0m \u001b[0merror\u001b[0m\u001b[0;34m)\u001b[0m\u001b[0;34m)\u001b[0m\u001b[0;34m\u001b[0m\u001b[0m\n\u001b[0;32m---> 20\u001b[0;31m \u001b[0msampler\u001b[0m\u001b[0;34m.\u001b[0m\u001b[0mrun_mcmc\u001b[0m\u001b[0;34m(\u001b[0m\u001b[0mpos\u001b[0m\u001b[0;34m,\u001b[0m \u001b[0;36m5000\u001b[0m\u001b[0;34m)\u001b[0m\u001b[0;34m\u001b[0m\u001b[0m\n\u001b[0m",
      "\u001b[0;32m/home/max/anaconda2/envs/moresnakes/lib/python3.5/site-packages/emcee/sampler.py\u001b[0m in \u001b[0;36mrun_mcmc\u001b[0;34m(self, pos0, N, rstate0, lnprob0, **kwargs)\u001b[0m\n\u001b[1;32m    170\u001b[0m \u001b[0;34m\u001b[0m\u001b[0m\n\u001b[1;32m    171\u001b[0m         for results in self.sample(pos0, lnprob0, rstate0, iterations=N,\n\u001b[0;32m--> 172\u001b[0;31m                                    **kwargs):\n\u001b[0m\u001b[1;32m    173\u001b[0m             \u001b[0;32mpass\u001b[0m\u001b[0;34m\u001b[0m\u001b[0m\n\u001b[1;32m    174\u001b[0m \u001b[0;34m\u001b[0m\u001b[0m\n",
      "\u001b[0;32m/home/max/anaconda2/envs/moresnakes/lib/python3.5/site-packages/emcee/ensemble.py\u001b[0m in \u001b[0;36msample\u001b[0;34m(self, p0, lnprob0, rstate0, blobs0, iterations, thin, storechain, mh_proposal)\u001b[0m\n\u001b[1;32m    196\u001b[0m         \u001b[0mblobs\u001b[0m \u001b[0;34m=\u001b[0m \u001b[0mblobs0\u001b[0m\u001b[0;34m\u001b[0m\u001b[0m\n\u001b[1;32m    197\u001b[0m         \u001b[0;32mif\u001b[0m \u001b[0mlnprob\u001b[0m \u001b[0;32mis\u001b[0m \u001b[0;32mNone\u001b[0m\u001b[0;34m:\u001b[0m\u001b[0;34m\u001b[0m\u001b[0m\n\u001b[0;32m--> 198\u001b[0;31m             \u001b[0mlnprob\u001b[0m\u001b[0;34m,\u001b[0m \u001b[0mblobs\u001b[0m \u001b[0;34m=\u001b[0m \u001b[0mself\u001b[0m\u001b[0;34m.\u001b[0m\u001b[0m_get_lnprob\u001b[0m\u001b[0;34m(\u001b[0m\u001b[0mp\u001b[0m\u001b[0;34m)\u001b[0m\u001b[0;34m\u001b[0m\u001b[0m\n\u001b[0m\u001b[1;32m    199\u001b[0m \u001b[0;34m\u001b[0m\u001b[0m\n\u001b[1;32m    200\u001b[0m         \u001b[0;31m# Check to make sure that the probability function didn't return\u001b[0m\u001b[0;34m\u001b[0m\u001b[0;34m\u001b[0m\u001b[0m\n",
      "\u001b[0;32m/home/max/anaconda2/envs/moresnakes/lib/python3.5/site-packages/emcee/ensemble.py\u001b[0m in \u001b[0;36m_get_lnprob\u001b[0;34m(self, pos)\u001b[0m\n\u001b[1;32m    406\u001b[0m \u001b[0;34m\u001b[0m\u001b[0m\n\u001b[1;32m    407\u001b[0m             \u001b[0;31m# Finally raise exception.\u001b[0m\u001b[0;34m\u001b[0m\u001b[0;34m\u001b[0m\u001b[0m\n\u001b[0;32m--> 408\u001b[0;31m             \u001b[0;32mraise\u001b[0m \u001b[0mValueError\u001b[0m\u001b[0;34m(\u001b[0m\u001b[0;34m\"lnprob returned NaN.\"\u001b[0m\u001b[0;34m)\u001b[0m\u001b[0;34m\u001b[0m\u001b[0m\n\u001b[0m\u001b[1;32m    409\u001b[0m \u001b[0;34m\u001b[0m\u001b[0m\n\u001b[1;32m    410\u001b[0m         \u001b[0;32mreturn\u001b[0m \u001b[0mlnprob\u001b[0m\u001b[0;34m,\u001b[0m \u001b[0mblob\u001b[0m\u001b[0;34m\u001b[0m\u001b[0m\n",
      "\u001b[0;31mValueError\u001b[0m: lnprob returned NaN."
     ]
    }
   ],
   "source": [
    "import emcee\n",
    "\n",
    "def logL(theta, x, y, sigma):\n",
    "    model = powerLH(theta[0], theta[1], theta[2], len(x)-1)\n",
    "    return -0.5*(np.sum((y-model)**2/sigma[:-1]**(2.) + np.log(2*np.pi*sigma[:-1]**2)))\n",
    "\n",
    "def lnprior(theta):\n",
    "    if theta[0] > .000001 and theta[1] > 10000 and theta[2] < 100 and theta[2] > 0:\n",
    "        return 1.\n",
    "    else:\n",
    "        return -np.inf\n",
    "\n",
    "def lnprob(theta, x, y, sigma):\n",
    "    return lnprior(theta) + logL(theta, x, y, sigma)\n",
    "\n",
    "ndim, nwalkers = 4, 100\n",
    "pos = [1e-4*np.random.randn(ndim) for i in range(nwalkers)]\n",
    "\n",
    "sampler = emcee.EnsembleSampler(nwalkers, ndim, lnprob, args = (bins, n, error))\n",
    "sampler.run_mcmc(pos, 5000)\n"
   ]
  },
  {
   "cell_type": "code",
   "execution_count": null,
   "metadata": {
    "collapsed": true
   },
   "outputs": [],
   "source": []
  }
 ],
 "metadata": {
  "kernelspec": {
   "display_name": "Python 3",
   "language": "python",
   "name": "python3"
  },
  "language_info": {
   "codemirror_mode": {
    "name": "ipython",
    "version": 3
   },
   "file_extension": ".py",
   "mimetype": "text/x-python",
   "name": "python",
   "nbconvert_exporter": "python",
   "pygments_lexer": "ipython3",
   "version": "3.5.2"
  }
 },
 "nbformat": 4,
 "nbformat_minor": 1
}
