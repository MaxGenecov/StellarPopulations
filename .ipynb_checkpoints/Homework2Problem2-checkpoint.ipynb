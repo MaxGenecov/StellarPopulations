{
 "cells": [
  {
   "cell_type": "code",
   "execution_count": 1,
   "metadata": {
    "collapsed": false
   },
   "outputs": [],
   "source": [
    "import numpy as np\n",
    "import matplotlib.pyplot as plt\n",
    "from scipy import integrate\n",
    "%matplotlib inline"
   ]
  },
  {
   "cell_type": "code",
   "execution_count": 17,
   "metadata": {
    "collapsed": false
   },
   "outputs": [
    {
     "data": {
      "text/plain": [
       "[<matplotlib.lines.Line2D at 0x7f01abefa9b0>]"
      ]
     },
     "execution_count": 17,
     "metadata": {},
     "output_type": "execute_result"
    },
    {
     "data": {
      "image/png": "[encoded data removed]",
      "text/plain": [
       "<matplotlib.figure.Figure at 0x7f01abf22b70>"
      ]
     },
     "metadata": {},
     "output_type": "display_data"
    }
   ],
   "source": [
    "def powerLH(m_min, m_max, M, alpha):\n",
    "    c = (1.-alpha)/(m_max**(1-alpha)-m_min**(1-alpha))\n",
    "    P = c*M**(-alpha)\n",
    "    return P\n",
    "\n",
    "testM = np.logspace(-2., 1, 1000)\n",
    "test = powerLH(.01, 10, testM, 2.5)\n",
    "plt.loglog(testM,test,'.')\n"
   ]
  },
  {
   "cell_type": "code",
   "execution_count": 50,
   "metadata": {
    "collapsed": false
   },
   "outputs": [
    {
     "data": {
      "image/png": "[encoded data removed]",
      "text/plain": [
       "<matplotlib.figure.Figure at 0x7f01b5aaf940>"
      ]
     },
     "metadata": {},
     "output_type": "display_data"
    }
   ],
   "source": [
    "randmasses = np.random.choice(testM, 10000, p = test/np.sum(test))\n",
    "#n, bins, patches = \n",
    "plt.hist(randmasses, bins = 10000)\n",
    "plt.yscale('log')\n",
    "plt.xscale('log')\n",
    "error = np.sqrt(n)+1."
   ]
  },
  {
   "cell_type": "code",
   "execution_count": 51,
   "metadata": {
    "collapsed": false
   },
   "outputs": [
    {
     "data": {
      "image/png": "[encoded data removed]",
      "text/plain": [
       "<matplotlib.figure.Figure at 0x7f01ab0e0ac8>"
      ]
     },
     "metadata": {},
     "output_type": "display_data"
    }
   ],
   "source": [
    "plt.plot(bins[:-1],n/sum(n),'.')\n",
    "plt.yscale('log')\n",
    "plt.xscale('log')\n"
   ]
  },
  {
   "cell_type": "code",
   "execution_count": 83,
   "metadata": {
    "collapsed": false,
    "scrolled": false
   },
   "outputs": [
    {
     "name": "stderr",
     "output_type": "stream",
     "text": [
      "/home/max/anaconda2/envs/moresnakes/lib/python3.5/site-packages/emcee/ensemble.py:335: RuntimeWarning: invalid value encountered in subtract\n",
      "  lnpdiff = (self.dim - 1.) * np.log(zz) + newlnprob - lnprob0\n",
      "/home/max/anaconda2/envs/moresnakes/lib/python3.5/site-packages/emcee/ensemble.py:336: RuntimeWarning: invalid value encountered in greater\n",
      "  accept = (lnpdiff > np.log(self._random.rand(len(lnpdiff))))\n",
      "/home/max/anaconda2/envs/moresnakes/lib/python3.5/site-packages/ipykernel/__main__.py:14: RuntimeWarning: divide by zero encountered in double_scalars\n"
     ]
    },
    {
     "name": "stdout",
     "output_type": "stream",
     "text": [
      "NaN value of lnprob for parameters: \n",
      "[  7.89843844e-02   2.90433646e+00   3.45812226e+02   5.88757690e+07]\n"
     ]
    },
    {
     "name": "stderr",
     "output_type": "stream",
     "text": [
      "/home/max/anaconda2/envs/moresnakes/lib/python3.5/site-packages/ipykernel/__main__.py:15: RuntimeWarning: overflow encountered in power\n",
      "/home/max/anaconda2/envs/moresnakes/lib/python3.5/site-packages/ipykernel/__main__.py:14: RuntimeWarning: overflow encountered in double_scalars\n",
      "/home/max/anaconda2/envs/moresnakes/lib/python3.5/site-packages/ipykernel/__main__.py:15: RuntimeWarning: invalid value encountered in multiply\n"
     ]
    },
    {
     "ename": "ValueError",
     "evalue": "lnprob returned NaN.",
     "output_type": "error",
     "traceback": [
      "\u001b[0;31m---------------------------------------------------------------------------\u001b[0m",
      "\u001b[0;31mValueError\u001b[0m                                Traceback (most recent call last)",
      "\u001b[0;32m<ipython-input-83-51e665a79259>\u001b[0m in \u001b[0;36m<module>\u001b[0;34m()\u001b[0m\n\u001b[1;32m     20\u001b[0m \u001b[0;34m\u001b[0m\u001b[0m\n\u001b[1;32m     21\u001b[0m \u001b[0msampler\u001b[0m \u001b[0;34m=\u001b[0m \u001b[0memcee\u001b[0m\u001b[0;34m.\u001b[0m\u001b[0mEnsembleSampler\u001b[0m\u001b[0;34m(\u001b[0m\u001b[0mnwalkers\u001b[0m\u001b[0;34m,\u001b[0m \u001b[0mndim\u001b[0m\u001b[0;34m,\u001b[0m \u001b[0mpowerLH\u001b[0m\u001b[0;34m,\u001b[0m \u001b[0margs\u001b[0m \u001b[0;34m=\u001b[0m \u001b[0;34m[\u001b[0m\u001b[0mrandmasses\u001b[0m\u001b[0;34m]\u001b[0m\u001b[0;34m)\u001b[0m\u001b[0;34m\u001b[0m\u001b[0m\n\u001b[0;32m---> 22\u001b[0;31m \u001b[0msampler\u001b[0m\u001b[0;34m.\u001b[0m\u001b[0mrun_mcmc\u001b[0m\u001b[0;34m(\u001b[0m\u001b[0mpos\u001b[0m\u001b[0;34m,\u001b[0m \u001b[0;36m2000\u001b[0m\u001b[0;34m)\u001b[0m\u001b[0;34m\u001b[0m\u001b[0m\n\u001b[0m",
      "\u001b[0;32m/home/max/anaconda2/envs/moresnakes/lib/python3.5/site-packages/emcee/sampler.py\u001b[0m in \u001b[0;36mrun_mcmc\u001b[0;34m(self, pos0, N, rstate0, lnprob0, **kwargs)\u001b[0m\n\u001b[1;32m    170\u001b[0m \u001b[0;34m\u001b[0m\u001b[0m\n\u001b[1;32m    171\u001b[0m         for results in self.sample(pos0, lnprob0, rstate0, iterations=N,\n\u001b[0;32m--> 172\u001b[0;31m                                    **kwargs):\n\u001b[0m\u001b[1;32m    173\u001b[0m             \u001b[0;32mpass\u001b[0m\u001b[0;34m\u001b[0m\u001b[0m\n\u001b[1;32m    174\u001b[0m \u001b[0;34m\u001b[0m\u001b[0m\n",
      "\u001b[0;32m/home/max/anaconda2/envs/moresnakes/lib/python3.5/site-packages/emcee/ensemble.py\u001b[0m in \u001b[0;36msample\u001b[0;34m(self, p0, lnprob0, rstate0, blobs0, iterations, thin, storechain, mh_proposal)\u001b[0m\n\u001b[1;32m    257\u001b[0m                 \u001b[0;32mfor\u001b[0m \u001b[0mS0\u001b[0m\u001b[0;34m,\u001b[0m \u001b[0mS1\u001b[0m \u001b[0;32min\u001b[0m \u001b[0;34m[\u001b[0m\u001b[0;34m(\u001b[0m\u001b[0mfirst\u001b[0m\u001b[0;34m,\u001b[0m \u001b[0msecond\u001b[0m\u001b[0;34m)\u001b[0m\u001b[0;34m,\u001b[0m \u001b[0;34m(\u001b[0m\u001b[0msecond\u001b[0m\u001b[0;34m,\u001b[0m \u001b[0mfirst\u001b[0m\u001b[0;34m)\u001b[0m\u001b[0;34m]\u001b[0m\u001b[0;34m:\u001b[0m\u001b[0;34m\u001b[0m\u001b[0m\n\u001b[1;32m    258\u001b[0m                     q, newlnp, acc, blob = self._propose_stretch(p[S0], p[S1],\n\u001b[0;32m--> 259\u001b[0;31m                                                                  lnprob[S0])\n\u001b[0m\u001b[1;32m    260\u001b[0m                     \u001b[0;32mif\u001b[0m \u001b[0mnp\u001b[0m\u001b[0;34m.\u001b[0m\u001b[0many\u001b[0m\u001b[0;34m(\u001b[0m\u001b[0macc\u001b[0m\u001b[0;34m)\u001b[0m\u001b[0;34m:\u001b[0m\u001b[0;34m\u001b[0m\u001b[0m\n\u001b[1;32m    261\u001b[0m                         \u001b[0;31m# Update the positions, log probabilities and\u001b[0m\u001b[0;34m\u001b[0m\u001b[0;34m\u001b[0m\u001b[0m\n",
      "\u001b[0;32m/home/max/anaconda2/envs/moresnakes/lib/python3.5/site-packages/emcee/ensemble.py\u001b[0m in \u001b[0;36m_propose_stretch\u001b[0;34m(self, p0, p1, lnprob0)\u001b[0m\n\u001b[1;32m    330\u001b[0m         \u001b[0;31m# Calculate the proposed positions and the log-probability there.\u001b[0m\u001b[0;34m\u001b[0m\u001b[0;34m\u001b[0m\u001b[0m\n\u001b[1;32m    331\u001b[0m         \u001b[0mq\u001b[0m \u001b[0;34m=\u001b[0m \u001b[0mc\u001b[0m\u001b[0;34m[\u001b[0m\u001b[0mrint\u001b[0m\u001b[0;34m]\u001b[0m \u001b[0;34m-\u001b[0m \u001b[0mzz\u001b[0m\u001b[0;34m[\u001b[0m\u001b[0;34m:\u001b[0m\u001b[0;34m,\u001b[0m \u001b[0mnp\u001b[0m\u001b[0;34m.\u001b[0m\u001b[0mnewaxis\u001b[0m\u001b[0;34m]\u001b[0m \u001b[0;34m*\u001b[0m \u001b[0;34m(\u001b[0m\u001b[0mc\u001b[0m\u001b[0;34m[\u001b[0m\u001b[0mrint\u001b[0m\u001b[0;34m]\u001b[0m \u001b[0;34m-\u001b[0m \u001b[0ms\u001b[0m\u001b[0;34m)\u001b[0m\u001b[0;34m\u001b[0m\u001b[0m\n\u001b[0;32m--> 332\u001b[0;31m         \u001b[0mnewlnprob\u001b[0m\u001b[0;34m,\u001b[0m \u001b[0mblob\u001b[0m \u001b[0;34m=\u001b[0m \u001b[0mself\u001b[0m\u001b[0;34m.\u001b[0m\u001b[0m_get_lnprob\u001b[0m\u001b[0;34m(\u001b[0m\u001b[0mq\u001b[0m\u001b[0;34m)\u001b[0m\u001b[0;34m\u001b[0m\u001b[0m\n\u001b[0m\u001b[1;32m    333\u001b[0m \u001b[0;34m\u001b[0m\u001b[0m\n\u001b[1;32m    334\u001b[0m         \u001b[0;31m# Decide whether or not the proposals should be accepted.\u001b[0m\u001b[0;34m\u001b[0m\u001b[0;34m\u001b[0m\u001b[0m\n",
      "\u001b[0;32m/home/max/anaconda2/envs/moresnakes/lib/python3.5/site-packages/emcee/ensemble.py\u001b[0m in \u001b[0;36m_get_lnprob\u001b[0;34m(self, pos)\u001b[0m\n\u001b[1;32m    406\u001b[0m \u001b[0;34m\u001b[0m\u001b[0m\n\u001b[1;32m    407\u001b[0m             \u001b[0;31m# Finally raise exception.\u001b[0m\u001b[0;34m\u001b[0m\u001b[0;34m\u001b[0m\u001b[0m\n\u001b[0;32m--> 408\u001b[0;31m             \u001b[0;32mraise\u001b[0m \u001b[0mValueError\u001b[0m\u001b[0;34m(\u001b[0m\u001b[0;34m\"lnprob returned NaN.\"\u001b[0m\u001b[0;34m)\u001b[0m\u001b[0;34m\u001b[0m\u001b[0m\n\u001b[0m\u001b[1;32m    409\u001b[0m \u001b[0;34m\u001b[0m\u001b[0m\n\u001b[1;32m    410\u001b[0m         \u001b[0;32mreturn\u001b[0m \u001b[0mlnprob\u001b[0m\u001b[0;34m,\u001b[0m \u001b[0mblob\u001b[0m\u001b[0;34m\u001b[0m\u001b[0m\n",
      "\u001b[0;31mValueError\u001b[0m: lnprob returned NaN."
     ]
    }
   ],
   "source": [
    "import emcee\n",
    "\n",
    "def powerLH(theta, M):\n",
    "    if theta[2] < 0:\n",
    "        return -np.inf\n",
    "    if theta[0] < 0:\n",
    "        return -np.inf\n",
    "    if theta[0] > .1:\n",
    "        return -np.inf\n",
    "    if theta[1] < 0:\n",
    "        return -np.inf\n",
    "    if theta[1] > 1000:\n",
    "        return -np.inf\n",
    "    c = (1.-theta[2])/(theta[1]**(1-theta[2])-theta[0]**(1-theta[2]))\n",
    "    P = np.sum(c*M**(-theta[2]))\n",
    "    return P\n",
    "\n",
    "ndim, nwalkers = 4, 100\n",
    "pos = [0+1e-2*np.random.randn(ndim) for i in range(nwalkers)]\n",
    "\n",
    "sampler = emcee.EnsembleSampler(nwalkers, ndim, powerLH, args = [randmasses])\n",
    "sampler.run_mcmc(pos, 2000)\n"
   ]
  },
  {
   "cell_type": "code",
   "execution_count": 72,
   "metadata": {
    "collapsed": false
   },
   "outputs": [
    {
     "data": {
      "text/plain": [
       "array([ 2.00102964,  2.00102209,  2.00102209, ...,  9.08810673,\n",
       "        9.08810673,  9.08810673])"
      ]
     },
     "execution_count": 72,
     "metadata": {},
     "output_type": "execute_result"
    }
   ],
   "source": [
    "sampler.flatchain[0:,1]"
   ]
  },
  {
   "cell_type": "code",
   "execution_count": 55,
   "metadata": {
    "collapsed": false
   },
   "outputs": [
    {
     "data": {
      "text/plain": [
       "[array([ 2.01562984,  2.01377801,  2.00623465]),\n",
       " array([ 1.989362  ,  1.99701142,  2.00963893]),\n",
       " array([ 1.98789479,  1.99041819,  1.99455704]),\n",
       " array([ 2.00087115,  1.9966398 ,  2.00103055]),\n",
       " array([ 2.01012086,  1.99313624,  2.00885497]),\n",
       " array([ 2.0121481 ,  1.99286051,  2.01702199]),\n",
       " array([ 1.98396846,  2.00844309,  1.99675322]),\n",
       " array([ 1.99343782,  2.00823684,  2.01093215]),\n",
       " array([ 1.98767427,  1.99350089,  1.98527325]),\n",
       " array([ 2.00504473,  2.01185055,  1.99342572]),\n",
       " array([ 2.00573241,  2.02262228,  2.00558248]),\n",
       " array([ 1.99939293,  1.99612155,  1.99578136]),\n",
       " array([ 1.99292983,  2.01016808,  2.0111458 ]),\n",
       " array([ 1.99659209,  2.00307997,  1.99950116]),\n",
       " array([ 2.01024051,  2.0066766 ,  2.00121154]),\n",
       " array([ 1.9961321 ,  1.989696  ,  1.99861811]),\n",
       " array([ 1.98352144,  1.98845877,  2.01954157]),\n",
       " array([ 1.993956  ,  1.99480849,  2.01586373]),\n",
       " array([ 1.9945406 ,  1.99852889,  2.00904741]),\n",
       " array([ 1.99604778,  2.00028258,  1.99501702]),\n",
       " array([ 2.00243281,  2.01506677,  1.99664798]),\n",
       " array([ 2.02457082,  2.00287283,  1.99418628]),\n",
       " array([ 1.99547967,  2.01043305,  1.99294611]),\n",
       " array([ 1.9973626 ,  2.00894521,  1.98972511]),\n",
       " array([ 1.99455767,  1.99655473,  2.00442047]),\n",
       " array([ 2.01046284,  2.00139504,  1.99693676]),\n",
       " array([ 1.98626261,  1.98975459,  2.00966673]),\n",
       " array([ 1.98521087,  1.99494301,  1.9929448 ]),\n",
       " array([ 1.98971828,  1.99590586,  2.00025549]),\n",
       " array([ 1.98857057,  1.99878184,  1.98075134]),\n",
       " array([ 2.01052766,  1.99698415,  2.02191758]),\n",
       " array([ 2.01178419,  2.01369636,  2.00870475]),\n",
       " array([ 1.99884698,  2.00534545,  1.99111228]),\n",
       " array([ 2.00724328,  1.99281017,  2.00917106]),\n",
       " array([ 1.9896028 ,  2.00751013,  1.98800798]),\n",
       " array([ 1.99576264,  1.99787743,  2.00593344]),\n",
       " array([ 2.00407169,  2.01092144,  1.98431742]),\n",
       " array([ 1.99619012,  1.99422656,  1.99136747]),\n",
       " array([ 2.01323063,  2.00948381,  2.00154899]),\n",
       " array([ 2.00558504,  1.99967464,  1.99778094]),\n",
       " array([ 1.99707191,  2.00439292,  1.99046455]),\n",
       " array([ 2.00393049,  2.01024483,  2.00291582]),\n",
       " array([ 2.00586106,  2.00673216,  2.00233596]),\n",
       " array([ 1.98430808,  1.97684095,  2.01185015]),\n",
       " array([ 2.01902161,  2.00873549,  1.99232892]),\n",
       " array([ 1.99358435,  1.99596732,  2.00357219]),\n",
       " array([ 1.99496985,  1.99460626,  1.97770375]),\n",
       " array([ 1.98901802,  2.0261801 ,  1.99626841]),\n",
       " array([ 2.00339847,  1.9894032 ,  1.99487075]),\n",
       " array([ 1.9866232 ,  1.98085339,  2.00937248]),\n",
       " array([ 1.98844928,  1.99977704,  1.98339449]),\n",
       " array([ 2.00991709,  1.99754721,  2.00663118]),\n",
       " array([ 1.99800078,  2.00711316,  2.00261282]),\n",
       " array([ 1.99346187,  1.99703733,  1.9835705 ]),\n",
       " array([ 2.02228642,  1.98783131,  1.99864412]),\n",
       " array([ 2.00226828,  1.98690484,  2.02572151]),\n",
       " array([ 2.00788114,  1.98212326,  2.01115442]),\n",
       " array([ 1.99084648,  1.99550625,  2.00426063]),\n",
       " array([ 2.00356638,  1.99281818,  2.01122484]),\n",
       " array([ 1.98947358,  1.99394903,  1.99026542]),\n",
       " array([ 1.99933593,  1.99166293,  1.99867602]),\n",
       " array([ 2.00445169,  2.00187044,  1.9954732 ]),\n",
       " array([ 2.00936927,  1.97976266,  1.98682268]),\n",
       " array([ 2.00604187,  1.99325685,  1.98836664]),\n",
       " array([ 1.98158479,  2.03629628,  2.01337028]),\n",
       " array([ 2.00147826,  2.00526541,  2.01090876]),\n",
       " array([ 2.01301799,  1.99566358,  1.99947211]),\n",
       " array([ 1.99637052,  1.99720573,  2.00563604]),\n",
       " array([ 2.01078001,  1.99221978,  1.9979479 ]),\n",
       " array([ 2.00000713,  1.99973782,  2.00599509]),\n",
       " array([ 2.00207943,  1.99733852,  2.01228361]),\n",
       " array([ 2.01315082,  2.00521275,  2.00905959]),\n",
       " array([ 2.00604516,  2.00758448,  1.99076086]),\n",
       " array([ 2.01755149,  2.0059232 ,  1.99879925]),\n",
       " array([ 1.99449357,  1.98980051,  2.00170105]),\n",
       " array([ 2.00180457,  1.99654807,  2.01208225]),\n",
       " array([ 2.00783577,  1.99476242,  2.01644209]),\n",
       " array([ 2.0006253 ,  1.97298521,  1.98266131]),\n",
       " array([ 1.98708394,  2.00746112,  1.99410672]),\n",
       " array([ 2.00226292,  2.0139073 ,  2.00240133]),\n",
       " array([ 1.99783572,  1.99891756,  1.99953182]),\n",
       " array([ 1.98801857,  2.00629189,  1.99691177]),\n",
       " array([ 2.00341366,  1.99781843,  1.9982761 ]),\n",
       " array([ 2.00989958,  2.0151834 ,  1.99792222]),\n",
       " array([ 1.99112667,  1.98882795,  1.99618434]),\n",
       " array([ 1.98629451,  1.99721866,  2.00055697]),\n",
       " array([ 1.99323825,  1.98857047,  2.0152842 ]),\n",
       " array([ 2.00955358,  1.99872179,  1.99208341]),\n",
       " array([ 1.99824067,  1.99146921,  2.00363852]),\n",
       " array([ 2.00126761,  1.98096085,  1.99390677]),\n",
       " array([ 1.99867278,  2.00280334,  1.99476064]),\n",
       " array([ 1.98772672,  2.00164494,  2.01822942]),\n",
       " array([ 1.9990411 ,  2.01074782,  1.99006279]),\n",
       " array([ 1.9867949 ,  1.99556567,  1.9948644 ]),\n",
       " array([ 2.00089089,  2.01160527,  1.98730733]),\n",
       " array([ 1.98620084,  1.98754148,  1.97320554]),\n",
       " array([ 1.98477047,  2.00551644,  1.98756221]),\n",
       " array([ 1.98045378,  2.00164066,  2.01008582]),\n",
       " array([ 1.99863617,  2.00444664,  2.01717616]),\n",
       " array([ 2.01097357,  2.01573593,  2.00212211])]"
      ]
     },
     "execution_count": 55,
     "metadata": {},
     "output_type": "execute_result"
    }
   ],
   "source": [
    "pos"
   ]
  },
  {
   "cell_type": "code",
   "execution_count": null,
   "metadata": {
    "collapsed": true
   },
   "outputs": [],
   "source": []
  }
 ],
 "metadata": {
  "kernelspec": {
   "display_name": "Python 3",
   "language": "python",
   "name": "python3"
  },
  "language_info": {
   "codemirror_mode": {
    "name": "ipython",
    "version": 3
   },
   "file_extension": ".py",
   "mimetype": "text/x-python",
   "name": "python",
   "nbconvert_exporter": "python",
   "pygments_lexer": "ipython3",
   "version": "3.5.2"
  }
 },
 "nbformat": 4,
 "nbformat_minor": 1
}
