{
 "cells": [
  {
   "cell_type": "code",
   "execution_count": 3,
   "metadata": {
    "collapsed": false
   },
   "outputs": [],
   "source": [
    "import numpy\n",
    "import pylab as plt\n",
    "\n",
    "%matplotlib inline"
   ]
  },
  {
   "cell_type": "code",
   "execution_count": 4,
   "metadata": {
    "collapsed": false
   },
   "outputs": [],
   "source": [
    "oldbagdict = {'brown':.3, 'yellow': .2, 'red':.2, 'green':.1, 'orange':.1, 'tan':.1, 'blue':0.}\n",
    "newbagdict = {'brown':.13, 'yellow': .14, 'red':.13, 'green':.2, 'orange':.16, 'tan':0., 'blue':.24}"
   ]
  },
  {
   "cell_type": "code",
   "execution_count": 72,
   "metadata": {
    "collapsed": false
   },
   "outputs": [
    {
     "name": "stdout",
     "output_type": "stream",
     "text": [
      "~~~Old Bag Chances~~~\n",
      "\n",
      "H\tP(H)\n",
      "\n",
      "blue\t0.0\n",
      "\n",
      "brown\t0.3\n",
      "\n",
      "yellow\t0.2\n",
      "\n",
      "green\t0.1\n",
      "\n",
      "orange\t0.1\n",
      "\n",
      "tan\t0.1\n",
      "\n",
      "red\t0.2\n",
      "\n"
     ]
    }
   ],
   "source": [
    "print('~~~Old Bag Chances~~~'+'\\n')\n",
    "print('H'+'\\t'+'P(H)'+'\\n')\n",
    "for i in range(len(oldbagdict.keys())):\n",
    "    print(str(oldbagdict.keys()[i])+'\\t'+str(oldbagdict.values()[i])+'\\n')"
   ]
  },
  {
   "cell_type": "code",
   "execution_count": 44,
   "metadata": {
    "collapsed": false
   },
   "outputs": [
    {
     "name": "stdout",
     "output_type": "stream",
     "text": [
      "~~~New Bag Chances~~~\n",
      "\n",
      "H\tP(H)\n",
      "\n",
      "blue\t0.24\n",
      "\n",
      "brown\t0.13\n",
      "\n",
      "yellow\t0.14\n",
      "\n",
      "green\t0.2\n",
      "\n",
      "orange\t0.16\n",
      "\n",
      "tan\t0.0\n",
      "\n",
      "red\t0.13\n",
      "\n"
     ]
    }
   ],
   "source": [
    "print('~~~New Bag Chances~~~'+'\\n')\n",
    "print('H'+'\\t'+'P(H)'+'\\n')\n",
    "for i in range(len(newbagdict.keys())):\n",
    "    print(str(newbagdict.keys()[i])+'\\t'+str(newbagdict.values()[i])+'\\n')"
   ]
  },
  {
   "cell_type": "code",
   "execution_count": 71,
   "metadata": {
    "collapsed": false
   },
   "outputs": [
    {
     "name": "stdout",
     "output_type": "stream",
     "text": [
      "Look what we found in this undated bag!\n"
     ]
    }
   ],
   "source": [
    "print('Look what we found in this undated bag!')\n"
   ]
  },
  {
   "cell_type": "code",
   "execution_count": 49,
   "metadata": {
    "collapsed": false
   },
   "outputs": [
    {
     "name": "stdout",
     "output_type": "stream",
     "text": [
      "Finding the Yellow Piece\n",
      "\n",
      "H\tP(H)\tP(D|H)\tP(H)*P(D|H)\n",
      "New Bag\t.5\t0.14\t0.07\n",
      "Old Bag\t.5\t0.2\t0.1\n"
     ]
    }
   ],
   "source": [
    "print('Finding the Yellow Piece'+'\\n')\n",
    "print('H'+'\\t'+'P(H)'+'\\t'+'P(D|H)'+'\\t'+'P(H)*P(D|H)')\n",
    "print('New Bag'+'\\t'+'.5'+'\\t'+str(newbagdict['yellow'])+'\\t'+str(.5*newbagdict['yellow']))\n",
    "print('Old Bag'+'\\t'+'.5'+'\\t'+str(oldbagdict['yellow'])+'\\t'+str(.5*oldbagdict['yellow']))"
   ]
  },
  {
   "cell_type": "code",
   "execution_count": 54,
   "metadata": {
    "collapsed": false
   },
   "outputs": [
    {
     "name": "stdout",
     "output_type": "stream",
     "text": [
      "(P(Yellow|Old Bag))/(P(Yellow|All)) = 0.588235294118\n"
     ]
    }
   ],
   "source": [
    "print('(P(Yellow|Old Bag))/(P(Yellow|All)) = '+str(oldbagdict['yellow']/(newbagdict['yellow']+oldbagdict['yellow'])))"
   ]
  },
  {
   "cell_type": "code",
   "execution_count": 55,
   "metadata": {
    "collapsed": false
   },
   "outputs": [
    {
     "name": "stdout",
     "output_type": "stream",
     "text": [
      "Finding the Green Piece\n",
      "\n",
      "H\tP(H)\tP(D|H)\tP(H)*P(D|H)\n",
      "New Bag\t.5\t0.2\t0.1\n",
      "Old Bag\t.5\t0.1\t0.05\n"
     ]
    }
   ],
   "source": [
    "print('Finding the Green Piece'+'\\n')\n",
    "print('H'+'\\t'+'P(H)'+'\\t'+'P(D|H)'+'\\t'+'P(H)*P(D|H)')\n",
    "print('New Bag'+'\\t'+'.5'+'\\t'+str(newbagdict['green'])+'\\t'+str(.5*newbagdict['green']))\n",
    "print('Old Bag'+'\\t'+'.5'+'\\t'+str(oldbagdict['green'])+'\\t'+str(.5*oldbagdict['green']))"
   ]
  },
  {
   "cell_type": "code",
   "execution_count": 56,
   "metadata": {
    "collapsed": false
   },
   "outputs": [
    {
     "name": "stdout",
     "output_type": "stream",
     "text": [
      "(P(Green|New Bag))/(P(Green|All)) = 0.333333333333\n"
     ]
    }
   ],
   "source": [
    "print('(P(Green|New Bag))/(P(Green|All)) = '+str(oldbagdict['green']/(newbagdict['green']+oldbagdict['green'])))"
   ]
  },
  {
   "cell_type": "code",
   "execution_count": 61,
   "metadata": {
    "collapsed": false
   },
   "outputs": [
    {
     "name": "stdout",
     "output_type": "stream",
     "text": [
      "(P(Yellow|Old Bag))*(P(Green|New Bag)) = 0.04\n"
     ]
    }
   ],
   "source": [
    "print('(P(Yellow|Old Bag))*(P(Green|New Bag)) = '+str(newbagdict['green']*oldbagdict['yellow']))"
   ]
  },
  {
   "cell_type": "code",
   "execution_count": 60,
   "metadata": {
    "collapsed": false
   },
   "outputs": [
    {
     "name": "stdout",
     "output_type": "stream",
     "text": [
      "(P(Green|Old Bag))*(P(Yellow|New Bag)) = 0.014\n"
     ]
    }
   ],
   "source": [
    "print('(P(Green|Old Bag))*(P(Yellow|New Bag)) = '+str(oldbagdict['green']*newbagdict['yellow']))"
   ]
  },
  {
   "cell_type": "code",
   "execution_count": 66,
   "metadata": {
    "collapsed": false
   },
   "outputs": [
    {
     "name": "stdout",
     "output_type": "stream",
     "text": [
      "(P(Yellow|Old Bag))*(P(Green|New Bag))/(P(Yellow)*P(Green)) = 0.259259259259\n"
     ]
    }
   ],
   "source": [
    "print('(P(Yellow|Old Bag))*(P(Green|New Bag))/(P(Yellow)*P(Green)) = '+str(oldbagdict['green']*newbagdict['yellow']/(oldbagdict['green']*newbagdict['yellow']+oldbagdict['yellow']*newbagdict['green'])))"
   ]
  },
  {
   "cell_type": "code",
   "execution_count": 68,
   "metadata": {
    "collapsed": false
   },
   "outputs": [
    {
     "name": "stdout",
     "output_type": "stream",
     "text": [
      "Finding the Yellow Piece\n",
      "\n",
      "H\tP(H)\tP(D|H)\tP(H)*P(D|H)\tP(H|D)\n",
      "New Bag\t.5\t0.14\t0.07\t0.411764705882\n",
      "Old Bag\t.5\t0.2\t0.1\t0.588235294118\n"
     ]
    }
   ],
   "source": [
    "print('Finding the Yellow Piece'+'\\n')\n",
    "print('H'+'\\t'+'P(H)'+'\\t'+'P(D|H)'+'\\t'+'P(H)*P(D|H)'+'\\t'+'P(H|D)')\n",
    "print('New Bag'+'\\t'+'.5'+'\\t'+str(newbagdict['yellow'])+'\\t'+str(.5*newbagdict['yellow'])+'\\t'+str(newbagdict['yellow']/(newbagdict['yellow']+oldbagdict['yellow'])))\n",
    "print('Old Bag'+'\\t'+'.5'+'\\t'+str(oldbagdict['yellow'])+'\\t'+str(.5*oldbagdict['yellow'])+'\\t'+str(oldbagdict['yellow']/(newbagdict['yellow']+oldbagdict['yellow'])))"
   ]
  },
  {
   "cell_type": "code",
   "execution_count": 73,
   "metadata": {
    "collapsed": false
   },
   "outputs": [
    {
     "name": "stdout",
     "output_type": "stream",
     "text": [
      "Finding the Green Piece\n",
      "\n",
      "H\tP(H)\tP(D|H)\tP(H)*P(D|H)\tP(H|D)\n",
      "New Bag\t.5\t0.2\t0.1\t0.666666666667\n",
      "Old Bag\t.5\t0.1\t0.05\t0.333333333333\n"
     ]
    }
   ],
   "source": [
    "print('Finding the Green Piece'+'\\n')\n",
    "print('H'+'\\t'+'P(H)'+'\\t'+'P(D|H)'+'\\t'+'P(H)*P(D|H)'+'\\t'+'P(H|D)')\n",
    "print('New Bag'+'\\t'+'.5'+'\\t'+str(newbagdict['green'])+'\\t'+str(.5*newbagdict['green'])+'\\t'+str(newbagdict['green']/(newbagdict['green']+oldbagdict['green'])))\n",
    "print('Old Bag'+'\\t'+'.5'+'\\t'+str(oldbagdict['green'])+'\\t'+str(.5*oldbagdict['green'])+'\\t'+str(oldbagdict['green']/(newbagdict['green']+oldbagdict['green'])))"
   ]
  },
  {
   "cell_type": "code",
   "execution_count": 85,
   "metadata": {
    "collapsed": false
   },
   "outputs": [
    {
     "name": "stdout",
     "output_type": "stream",
     "text": [
      "Finding Green and Yellow Pieces in Those Bags! Where Did Ya Find Those Round Beans?!\n",
      "Case\t\tNot Normalized\tNormalized\n",
      "P(G|N)*P(Y|O)\t0.392156862745\t0.740740740741\n",
      "P(Y|N)*P(G|O)\t0.137254901961\t0.259259259259\n"
     ]
    }
   ],
   "source": [
    "newgivegreen = newbagdict['green']/(newbagdict['green']+oldbagdict['green'])\n",
    "oldgivegreen = oldbagdict['green']/(newbagdict['green']+oldbagdict['green'])\n",
    "newgiveyellow = newbagdict['yellow']/(newbagdict['yellow']+oldbagdict['yellow'])\n",
    "oldgiveyellow = oldbagdict['yellow']/(newbagdict['yellow']+oldbagdict['yellow'])\n",
    "print('Finding Green and Yellow Pieces in Those Bags! Where Did Ya Find Those Round Beans?!')\n",
    "\n",
    "print('Case'+'\\t'+'\\t'+'Not Normalized'+'\\t'+'Normalized')\n",
    "print('P(G|N)*P(Y|O)'+'\\t'+str(newgivegreen*oldgiveyellow)+'\\t'+str(newgivegreen*oldgiveyellow/(newgivegreen*oldgiveyellow+oldgivegreen*newgiveyellow)))\n",
    "print('P(Y|N)*P(G|O)'+'\\t'+str(oldgivegreen*newgiveyellow))+'\\t'+str(oldgivegreen*newgiveyellow/(newgivegreen*oldgiveyellow+oldgivegreen*newgiveyellow))"
   ]
  },
  {
   "cell_type": "markdown",
   "metadata": {},
   "source": [
    "The probability that they yellow M&M came from the yellow bag is .741"
   ]
  },
  {
   "cell_type": "code",
   "execution_count": null,
   "metadata": {
    "collapsed": true
   },
   "outputs": [],
   "source": []
  }
 ],
 "metadata": {
  "kernelspec": {
   "display_name": "Python 2",
   "language": "python",
   "name": "python2"
  },
  "language_info": {
   "codemirror_mode": {
    "name": "ipython",
    "version": 2
   },
   "file_extension": ".py",
   "mimetype": "text/x-python",
   "name": "python",
   "nbconvert_exporter": "python",
   "pygments_lexer": "ipython2",
   "version": "2.7.12"
  }
 },
 "nbformat": 4,
 "nbformat_minor": 0
}
