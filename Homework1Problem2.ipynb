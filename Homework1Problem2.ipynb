{
 "cells": [
  {
   "cell_type": "code",
   "execution_count": 8,
   "metadata": {
    "collapsed": false
   },
   "outputs": [],
   "source": [
    "import numpy as np\n",
    "import pylab as plt\n",
    "import random\n",
    "from numpy import e\n",
    "%matplotlib inline"
   ]
  },
  {
   "cell_type": "code",
   "execution_count": null,
   "metadata": {
    "collapsed": true
   },
   "outputs": [],
   "source": []
  },
  {
   "cell_type": "code",
   "execution_count": 9,
   "metadata": {
    "collapsed": true
   },
   "outputs": [],
   "source": [
    "def gaussian_model(mu, sigma, x):\n",
    "    P = (2*np.pi*sigma**2)**(-1)*e**(-(mu-x)**2/(2*sigma**2))\n",
    "    return P"
   ]
  },
  {
   "cell_type": "code",
   "execution_count": 10,
   "metadata": {
    "collapsed": false
   },
   "outputs": [],
   "source": [
    "def logL(theta, x, y):\n",
    "    return -.5 * np.sum((y-gaussian_model(mu = theta[0], sigma = theta[1], x = x))**2 / theta[1]**2 + np.log(2*np.pi*theta[1]**2))"
   ]
  },
  {
   "cell_type": "code",
   "execution_count": 11,
   "metadata": {
    "collapsed": true
   },
   "outputs": [],
   "source": [
    "def lnprior(theta):\n",
    "    if theta[0] < 10. and theta[1] < 10.:\n",
    "        return 0.\n",
    "    else:\n",
    "        return -np.inf"
   ]
  },
  {
   "cell_type": "code",
   "execution_count": 12,
   "metadata": {
    "collapsed": false
   },
   "outputs": [],
   "source": [
    "def lnprob(theta, x, y):\n",
    "    return lnprior(theta) + logL(theta, x, y)"
   ]
  },
  {
   "cell_type": "code",
   "execution_count": 18,
   "metadata": {
    "collapsed": false
   },
   "outputs": [],
   "source": [
    "def Gaussian_MCMC(nsteps, x, y):\n",
    "    import numpy as np\n",
    "    n = 0\n",
    "    thetas = [(.3,.1)]\n",
    "    probs = []\n",
    "    probs.append(lnprob(thetas[0], x, y))\n",
    "    while n < nsteps:\n",
    "        theta_guess = .001*np.array(random.sample(range(1,10000), 2))\n",
    "        prob_calc = lnprob(theta_guess, x, y)\n",
    "        if prob_calc > probs[n]:\n",
    "            probs.append(prob_calc)\n",
    "            thetas.append(theta_guess)\n",
    "        else:\n",
    "            if prob_calc > random.uniform(.25, .5):\n",
    "                probs.append(prob_calc)\n",
    "                thetas.append(theta_guess)\n",
    "            else:\n",
    "                probs.append(probs[n])\n",
    "                thetas.append(thetas[n])\n",
    "        n+= 1\n",
    "    thetas[::-1].pop()\n",
    "    thetas[::-1].pop()\n",
    "    probs[::-1].pop()\n",
    "    probs[::-1].pop()\n",
    "    thetas = np.asarray(thetas)\n",
    "    return probs, thetas"
   ]
  },
  {
   "cell_type": "code",
   "execution_count": 19,
   "metadata": {
    "collapsed": false
   },
   "outputs": [],
   "source": [
    "x = np.linspace(-5,15,500)\n",
    "y = gaussian_model(mu = 5, sigma = 1, x = x)\n",
    "\n",
    "probs, thetas = Gaussian_MCMC(50000, x, y)"
   ]
  },
  {
   "cell_type": "code",
   "execution_count": 22,
   "metadata": {
    "collapsed": false
   },
   "outputs": [
    {
     "name": "stdout",
     "output_type": "stream",
     "text": [
      "[[ 5.014  0.334]\n",
      " [ 5.014  0.334]\n",
      " [ 5.014  0.334]\n",
      " [ 5.014  0.334]\n",
      " [ 5.014  0.334]\n",
      " [ 5.014  0.334]\n",
      " [ 5.014  0.334]\n",
      " [ 5.014  0.334]\n",
      " [ 5.014  0.334]\n",
      " [ 5.014  0.334]\n",
      " [ 5.014  0.334]\n",
      " [ 5.014  0.334]\n",
      " [ 5.014  0.334]\n",
      " [ 5.014  0.334]\n",
      " [ 5.014  0.334]\n",
      " [ 5.014  0.334]\n",
      " [ 5.014  0.334]\n",
      " [ 5.014  0.334]\n",
      " [ 5.014  0.334]\n",
      " [ 5.014  0.334]\n",
      " [ 5.014  0.334]\n",
      " [ 5.014  0.334]\n",
      " [ 5.014  0.334]\n",
      " [ 5.014  0.334]\n",
      " [ 5.014  0.334]\n",
      " [ 5.014  0.334]\n",
      " [ 5.014  0.334]\n",
      " [ 5.014  0.334]\n",
      " [ 5.014  0.334]]\n"
     ]
    },
    {
     "data": {
      "image/png": "[encoded data removed]",
      "text/plain": [
       "<matplotlib.figure.Figure at 0x7f3b7e6575c0>"
      ]
     },
     "metadata": {},
     "output_type": "display_data"
    }
   ],
   "source": [
    "plt.plot(probs, '.')\n",
    "print(thetas[-30:-1,0:])"
   ]
  },
  {
   "cell_type": "code",
   "execution_count": 21,
   "metadata": {
    "collapsed": false
   },
   "outputs": [
    {
     "name": "stdout",
     "output_type": "stream",
     "text": [
      "4.99383797083\n"
     ]
    },
    {
     "data": {
      "image/png": "[encoded data removed]",
      "text/plain": [
       "<matplotlib.figure.Figure at 0x7f3b7e6533c8>"
      ]
     },
     "metadata": {},
     "output_type": "display_data"
    }
   ],
   "source": [
    "plt.hist(thetas[1000:,0], bins = 50)\n",
    "print(np.mean(thetas[10:,0]))"
   ]
  },
  {
   "cell_type": "code",
   "execution_count": 17,
   "metadata": {
    "collapsed": false
   },
   "outputs": [
    {
     "data": {
      "text/plain": [
       "[<matplotlib.lines.Line2D at 0x7f3b7e6a1518>]"
      ]
     },
     "execution_count": 17,
     "metadata": {},
     "output_type": "execute_result"
    },
    {
     "data": {
      "image/png": "[encoded data removed]",
      "text/plain": [
       "<matplotlib.figure.Figure at 0x7f3b808f0978>"
      ]
     },
     "metadata": {},
     "output_type": "display_data"
    }
   ],
   "source": [
    "plt.plot(x,y)"
   ]
  },
  {
   "cell_type": "code",
   "execution_count": null,
   "metadata": {
    "collapsed": true
   },
   "outputs": [],
   "source": []
  }
 ],
 "metadata": {
  "kernelspec": {
   "display_name": "Python 3",
   "language": "python",
   "name": "python3"
  },
  "language_info": {
   "codemirror_mode": {
    "name": "ipython",
    "version": 3
   },
   "file_extension": ".py",
   "mimetype": "text/x-python",
   "name": "python",
   "nbconvert_exporter": "python",
   "pygments_lexer": "ipython3",
   "version": "3.5.2"
  }
 },
 "nbformat": 4,
 "nbformat_minor": 1
}
