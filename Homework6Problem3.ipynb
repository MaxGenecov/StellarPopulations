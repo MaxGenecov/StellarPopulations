{
 "cells": [
  {
   "cell_type": "code",
   "execution_count": 1,
   "metadata": {
    "collapsed": true
   },
   "outputs": [],
   "source": [
    "\n",
    "# integrate luminosity functions out to M_UV = -10 equivalent maybe?\n",
    "# convert from luminosity to sSFR with a better function than the one I have/ the one in Kennicutt & Evans 2012\n",
    "# Then you have three points for Cosmic sSFR?"
   ]
  },
  {
   "cell_type": "code",
   "execution_count": 5,
   "metadata": {
    "collapsed": false
   },
   "outputs": [],
   "source": [
    "import numpy as np\n",
    "import emcee\n",
    "import matplotlib.pyplot as plt\n",
    "%matplotlib inline\n",
    "\n",
    "Data = np.genfromtxt('schechterfits.csv', delimiter = ',')\n",
    "red = Data[:,0]\n",
    "rederr = Data[:,1]\n",
    "mstar = Data[:,2]\n",
    "mstarerr = Data[:,3]\n",
    "alpha = Data[:,4]\n",
    "alphaerr = Data[:,5]\n",
    "pstar = Data[:,6]\n",
    "pstarerr = Data[:,7]"
   ]
  },
  {
   "cell_type": "code",
   "execution_count": 51,
   "metadata": {
    "collapsed": false
   },
   "outputs": [],
   "source": [
    "mags = np.linspace(-10, -30, 1500)\n",
    "lums = (10**(-.4*(mags + 48.6)))*(4*np.pi*3.086e19**2) # turning everything into ergs/s\n",
    "\n",
    "lstar = 10**(-.4*(mstar + 48.6))*(4*np.pi*3.086e19**2) \n",
    "lstarerr = 10**(-.4*(mstar - mstarerr + 48.6))*(4*np.pi*3.086e19**2) - lstar\n",
    "\n",
    "fits = []\n",
    "errfit = []\n",
    "\n",
    "for i in range(len(Data[:,0])):\n",
    "    a = pstar[i]*(lums/lstar[i])**(alpha[i])*np.exp(-lums/lstar[i])\n",
    "    b = (pstar[i]-pstarerr[i])*(lums/(lstar[i]+lstarerr[i]))**(alpha[i]+alphaerr[i])*np.exp(-lums/(lstar[i]+lstarerr[i]))\n",
    "    fits.append(a)\n",
    "    errfit.append(b)\n",
    "\n",
    "fits = np.asarray(fits)\n",
    "errfit = np.asarray(errfit)\n",
    "\n",
    "Rsums = np.zeros([len(fits[:,0])])\n",
    "Rsumserr = np.zeros([len(fits[:,0])])\n",
    "\n",
    "\n",
    "for i in range(len(lums)):\n",
    "    for j in range(len(fits[:,0])):\n",
    "        if i < np.max(range(len(lums))):\n",
    "            Rsums[j] += fits[j,i]*np.abs(lums[i]-lums[i+1]) # this is the luminosity density\n",
    "            Rsumserr[j] += errfit[j,i]*np.abs(lums[i]-lums[i+1]) # this is something like the error"
   ]
  },
  {
   "cell_type": "code",
   "execution_count": 52,
   "metadata": {
    "collapsed": false
   },
   "outputs": [
    {
     "data": {
      "text/plain": [
       "[<matplotlib.lines.Line2D at 0x7fbff0ae9fd0>]"
      ]
     },
     "execution_count": 52,
     "metadata": {},
     "output_type": "execute_result"
    },
    {
     "data": {
      "image/png": "[encoded data removed]",
      "text/plain": [
       "<matplotlib.figure.Figure at 0x7fbff0ae90f0>"
      ]
     },
     "metadata": {},
     "output_type": "display_data"
    }
   ],
   "source": [
    "plt.semilogy(red, Rsums, '.')\n",
    "plt.semilogy(red, Rsumserr, '.')\n"
   ]
  },
  {
   "cell_type": "code",
   "execution_count": 53,
   "metadata": {
    "collapsed": false
   },
   "outputs": [
    {
     "name": "stderr",
     "output_type": "stream",
     "text": [
      "/home/max/anaconda2/envs/moresnakes/lib/python3.5/site-packages/ipykernel/__main__.py:4: RuntimeWarning: invalid value encountered in log10\n"
     ]
    }
   ],
   "source": [
    "# from Kennicutt and Evans 2012\n",
    "\n",
    "SFR = 10**(np.log10(Rsums) - 43.35)\n",
    "SFRerr = 10**(np.log10(Rsumserr) - 43.35)\n"
   ]
  },
  {
   "cell_type": "code",
   "execution_count": 58,
   "metadata": {
    "collapsed": false
   },
   "outputs": [
    {
     "data": {
      "text/plain": [
       "[<matplotlib.lines.Line2D at 0x7fbff0824e80>]"
      ]
     },
     "execution_count": 58,
     "metadata": {},
     "output_type": "execute_result"
    },
    {
     "name": "stderr",
     "output_type": "stream",
     "text": [
      "/home/max/anaconda2/envs/moresnakes/lib/python3.5/site-packages/matplotlib/scale.py:93: RuntimeWarning: invalid value encountered in less_equal\n",
      "  mask = a <= 0.0\n"
     ]
    },
    {
     "data": {
      "image/png": "[encoded data removed]",
      "text/plain": [
       "<matplotlib.figure.Figure at 0x7fbff0a62358>"
      ]
     },
     "metadata": {},
     "output_type": "display_data"
    }
   ],
   "source": [
    "plt.figure(figsize=(10,10))\n",
    "plt.semilogy(red, SFR, '.')\n",
    "plt.semilogy(red, SFRerr, '.', alpha = .5)\n",
    "\n",
    "# I couldn't get plt.errorbar to work (I never do for some reason) so the errors are printed in light green"
   ]
  },
  {
   "cell_type": "markdown",
   "metadata": {},
   "source": [
    "I do not find a turn-off in the data like Madau does in Figure 9 with the Bouwens data, which is odd. I imagine they are using a more sophisticated conversion technique from UV to SFR than I am. I also might have the magnitude determination wrong, since my values are teensy weensy."
   ]
  },
  {
   "cell_type": "code",
   "execution_count": null,
   "metadata": {
    "collapsed": true
   },
   "outputs": [],
   "source": [
    "def model(theta, z):\n",
    "    sc = theta[0]*(1+z)**(theta[1])/(1+((1+z)/theta[2])**(theta[3]))\n",
    "    return sc\n",
    "\n",
    "def logL(theta, z, N, err):\n",
    "    return -.5* np.sum((N - model(theta, z))**2./err**2.)\n",
    "\n",
    "def lnprior(theta):\n",
    "    \n",
    "    # conditions go here\n",
    "    else:\n",
    "        return 0\n",
    "\n",
    "def lnprob(theta, L, N, err):\n",
    "    if lnprior(theta) == -np.inf:\n",
    "        return -np.inf\n",
    "    else:\n",
    "        return logL(theta, L, N, err) + lnprior(theta)\n",
    "    \n",
    "ndim, nwalkers = 4, 100\n",
    "pos = [[1e-4, -20, -1, -1]*np.random.randn(ndim) for i in range(nwalkers)]\n",
    "\n",
    "\n",
    "sampler = emcee.EnsembleSampler(nwalkers, ndim, lnprob, args = [reds, SFR, SFRerr])\n",
    "sampler.run_mcmc(pos, 50000)    "
   ]
  }
 ],
 "metadata": {
  "kernelspec": {
   "display_name": "Python 3",
   "language": "python",
   "name": "python3"
  },
  "language_info": {
   "codemirror_mode": {
    "name": "ipython",
    "version": 3
   },
   "file_extension": ".py",
   "mimetype": "text/x-python",
   "name": "python",
   "nbconvert_exporter": "python",
   "pygments_lexer": "ipython3",
   "version": "3.5.2"
  }
 },
 "nbformat": 4,
 "nbformat_minor": 1
}
